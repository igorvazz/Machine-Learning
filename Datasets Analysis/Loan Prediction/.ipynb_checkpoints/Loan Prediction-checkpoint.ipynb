{
 "cells": [
  {
   "cell_type": "markdown",
   "metadata": {},
   "source": [
    "<div class=\"text_cell_render border-box-sizing rendered_html\">\n",
    "<p style=\"text-align:center; height: 20px; color:black; font-weight: bold; font-size: 15px; \">Igor Vaz</p>\n",
    "</div>"
   ]
  },
  {
   "cell_type": "markdown",
   "metadata": {},
   "source": [
    "<div class=\"text_cell_render border-box-sizing rendered_html\">\n",
    "<h1 style=\"padding-left: 150px;\" id=\"Loan Approval Prediction\" align=\"center\">Loan Approval Prediction<a class=\"anchor-link\" href=\"#Loan Approval Prediction\" target=\"_self\"></a></h1><hr>\n",
    "</div>\n",
    "\n",
    "<a>\n",
    "    <div style=\"margin: 0px;\">\n",
    "        <p align=\"left\">\n",
    "            <img width=\"100%\" align=\"left\" style=\"margin-bottom: 40px;\" src=\"./images/opening2.png\"/>           \n",
    "        </p>\n",
    "    </div>\n",
    "</a>\n"
   ]
  },
  {
   "cell_type": "markdown",
   "metadata": {
    "toc": true
   },
   "source": [
    "<h1>Table of Contents<span class=\"tocSkip\"></span></h1>\n",
    "<div class=\"toc\"><ul class=\"toc-item\"><li><span><a href=\"#Loan Approval Prediction\" data-toc-modified-id=\"Loan-Approval-Prediction-1\">Loan Approval Prediction</a></span><ul class=\"toc-item\"><li><span><a href=\"#1.-Introduction\" data-toc-modified-id=\"1.-Introduction-1.1\">1. Introduction</a></span></li><li><span><a href=\"#2.-Exploring-variables\" data-toc-modified-id=\"2.-Exploring-variables-1.2\">2. Exploring variables</a></span><ul class=\"toc-item\"><li><span><a href=\"#2.1-Variables-description:\" data-toc-modified-id=\"2.1-Variables-description:-1.2.1\">2.1 Variables description:</a></span><ul class=\"toc-item\"><li><span><a href=\"#Checking-for-missing-values-in-the-dataset\" data-toc-modified-id=\"Checking-for-missing-values-in-the-dataset-1.2.1.1\">Checking for missing values in the dataset</a></span></li></ul></li><li><span><a href=\"#2.2-Univariate-Analysis\" data-toc-modified-id=\"2.2-Univariate-Analysis-1.2.2\">2.2 Univariate Analysis</a></span><ul class=\"toc-item\"><li><span><a href=\"#2.2.1-target-Variable\" data-toc-modified-id=\"2.2.1-target-Variable-1.2.2.1\">2.2.1 target Variable</a></span></li><li><span><a href=\"#2.2.2-Categorical-Features\" data-toc-modified-id=\"2.2.2-Categorical-Features-1.2.2.2\">2.2.2 Categorical Features</a></span></li><li><span><a href=\"#2.2.3-Ordinal-Features\" data-toc-modified-id=\"2.2.3-Ordinal-Features-1.2.2.3\">2.2.3 Ordinal Features</a></span></li><li><span><a href=\"#2.2.4-Numerical-Features\" data-toc-modified-id=\"2.2.4-Numerical-Features-1.2.2.4\">2.2.4 Numerical Features</a></span></li></ul></li><li><span><a href=\"#2.3-Bivariate-Analysis\" data-toc-modified-id=\"2.3-Bivariate-Analysis-1.2.3\">2.3 Bivariate Analysis</a></span><ul class=\"toc-item\"><li><span><a href=\"#2.3.1-Categorical-features-vs-Loan-Approval\" data-toc-modified-id=\"2.3.1-Categorical-features-vs-Loan-Approval-1.2.3.1\">2.3.1 Categorical features vs Loan Approval</a></span></li><li><span><a href=\"#2.3.2-Ordinal-Features-vs-Loan-Status\" data-toc-modified-id=\"2.3.2-Ordinal-Features-vs-Loan-Status-1.2.3.2\">2.3.2 Ordinal Features vs Loan Status</a></span></li><li><span><a href=\"#2.3.3-Numerical-Features-vs-Loan-Status\" data-toc-modified-id=\"2.3.3-Numerical-Features-vs-Loan-Status-1.2.3.3\">2.3.3 Numerical Features vs Loan Status</a></span></li><li><span><a href=\"#2.3.4-Correlation-Matrix\" data-toc-modified-id=\"2.3.4-Correlation-Matrix-1.2.3.4\">2.3.4 Correlation Matrix</a></span></li></ul></li></ul></li><li><span><a href=\"#3.-Feature-Engineering\" data-toc-modified-id=\"3.-Feature-Engineering-1.3\">3. Feature Engineering</a></span><ul class=\"toc-item\"><li><span><a href=\"#3.1-Missing-Values-and-Outliers-Treatment\" data-toc-modified-id=\"3.1-Missing-Values-and-Outliers-Treatment-1.3.1\">3.1 Missing Values and Outliers Treatment</a></span></li><li><span><a href=\"#3.2-Features-Combinations\" data-toc-modified-id=\"3.2-Features-Combinations-1.3.2\">3.2 Features Combinations</a></span></li></ul></li><li><span><a href=\"#4.-Evaluation-Metrics\" data-toc-modified-id=\"4.-Evaluation-Metrics-1.4\">4. Evaluation Metrics</a></span></li><li><span><a href=\"#5.-Model-Building\" data-toc-modified-id=\"5.-Model-Building-1.5\">5. Model Building</a></span><ul class=\"toc-item\"><li><span><a href=\"#5.1-Splitting-tha-Dataset-into-Training-Set-and-Test-Set\" data-toc-modified-id=\"5.1-Splitting-tha-Dataset-into-Training-Set-and-Test-Set-1.5.1\">5.1 Splitting tha Dataset into Training Set and Test Set</a></span></li><li><span><a href=\"#5.3-Algorithms\" data-toc-modified-id=\"5.3-Algorithms-1.5.2\">5.3 Algorithms</a></span><ul class=\"toc-item\"><li><span><a href=\"#5.3.1-Neural-Network\" data-toc-modified-id=\"5.3.1-Neural-Network-1.5.2.1\">5.3.1 Neural Network</a></span></li><li><span><a href=\"#5.3.2-Logistic-Regression\" data-toc-modified-id=\"5.3.2-Logistic-Regression-1.5.2.2\">5.3.2 Logistic Regression</a></span></li><li><span><a href=\"#5.3.3-SVM\" data-toc-modified-id=\"5.3.3-SVM-1.5.2.3\">5.3.3 SVM</a></span></li><li><span><a href=\"#5.3.4-KNN\" data-toc-modified-id=\"5.3.4-KNN-1.5.2.4\">5.3.4 KNN</a></span></li><li><span><a href=\"#5.3.5-Decision-Tree\" data-toc-modified-id=\"5.3.5-Decision-Tree-1.5.2.5\">5.3.5 Decision Tree</a></span></li><li><span><a href=\"#5.3.6-Random-Forest\" data-toc-modified-id=\"5.3.6-Random-Forest-1.5.2.6\">5.3.6 Random Forest</a></span></li><li><span><a href=\"#5.3.7-XGBoost\" data-toc-modified-id=\"5.3.7-XGBoost-1.5.2.7\">5.3.7 XGBoost</a></span></li></ul></li></ul></li><li><span><a href=\"#6.-Models-Comparison\" data-toc-modified-id=\"6.-Models-Comparison-1.6\">6. Models Comparison</a></span></li></ul></li></ul></div>"
   ]
  },
  {
   "cell_type": "markdown",
   "metadata": {},
   "source": [
    "## 1. Introduction\n",
    "\n",
    "This Dataset was provided by Analytics Vidhya as a competition problem. It has the data from the company Dream Housing Finance, which deals in all home loans. They have presence across all urban, semi urban and rural areas. A Customer can apply for home loan after that company validates the customer eligibility.\n",
    "\n",
    "Now the company wants to automate the loan eligibility process (real time) based on customer detail provided while filling online application form. These details are Gender, Marital Status, Education, Number of Dependents, Income, Loan Amount, Credit History and others. To automate this process, they have given a problem to identify the customers segments, those are eligible for loan amount so that they can specifically target these customers."
   ]
  },
  {
   "cell_type": "code",
   "execution_count": 1,
   "metadata": {},
   "outputs": [],
   "source": [
    "#importing libraries needed\n",
    "import pandas as pd\n",
    "import numpy as np\n",
    "import matplotlib.pyplot as plt\n",
    "import seaborn as sns \n",
    "%matplotlib inline\n",
    "sns.set()\n",
    "# To ignore any warnings \n",
    "import warnings\n",
    "warnings.filterwarnings(\"ignore\")"
   ]
  },
  {
   "cell_type": "code",
   "execution_count": 2,
   "metadata": {},
   "outputs": [],
   "source": [
    "#reading dataset present in this notebook's folder\n",
    "train = pd.read_csv('train.csv')\n",
    "test = pd.read_csv('test.csv')\n",
    "\n",
    "#making a copy of train and test data\n",
    "train_original = train.copy() \n",
    "test_original = test.copy()"
   ]
  },
  {
   "cell_type": "markdown",
   "metadata": {},
   "source": [
    "## 2. Exploring variables"
   ]
  },
  {
   "cell_type": "code",
   "execution_count": 3,
   "metadata": {},
   "outputs": [
    {
     "data": {
      "text/html": [
       "<div>\n",
       "<style scoped>\n",
       "    .dataframe tbody tr th:only-of-type {\n",
       "        vertical-align: middle;\n",
       "    }\n",
       "\n",
       "    .dataframe tbody tr th {\n",
       "        vertical-align: top;\n",
       "    }\n",
       "\n",
       "    .dataframe thead th {\n",
       "        text-align: right;\n",
       "    }\n",
       "</style>\n",
       "<table border=\"1\" class=\"dataframe\">\n",
       "  <thead>\n",
       "    <tr style=\"text-align: right;\">\n",
       "      <th></th>\n",
       "      <th>Loan_ID</th>\n",
       "      <th>Gender</th>\n",
       "      <th>Married</th>\n",
       "      <th>Dependents</th>\n",
       "      <th>Education</th>\n",
       "      <th>Self_Employed</th>\n",
       "      <th>ApplicantIncome</th>\n",
       "      <th>CoapplicantIncome</th>\n",
       "      <th>LoanAmount</th>\n",
       "      <th>Loan_Amount_Term</th>\n",
       "      <th>Credit_History</th>\n",
       "      <th>Property_Area</th>\n",
       "      <th>Loan_Status</th>\n",
       "    </tr>\n",
       "  </thead>\n",
       "  <tbody>\n",
       "    <tr>\n",
       "      <th>0</th>\n",
       "      <td>LP001002</td>\n",
       "      <td>Male</td>\n",
       "      <td>No</td>\n",
       "      <td>0</td>\n",
       "      <td>Graduate</td>\n",
       "      <td>No</td>\n",
       "      <td>5849</td>\n",
       "      <td>0.0</td>\n",
       "      <td>NaN</td>\n",
       "      <td>360.0</td>\n",
       "      <td>1.0</td>\n",
       "      <td>Urban</td>\n",
       "      <td>Y</td>\n",
       "    </tr>\n",
       "    <tr>\n",
       "      <th>1</th>\n",
       "      <td>LP001003</td>\n",
       "      <td>Male</td>\n",
       "      <td>Yes</td>\n",
       "      <td>1</td>\n",
       "      <td>Graduate</td>\n",
       "      <td>No</td>\n",
       "      <td>4583</td>\n",
       "      <td>1508.0</td>\n",
       "      <td>128.0</td>\n",
       "      <td>360.0</td>\n",
       "      <td>1.0</td>\n",
       "      <td>Rural</td>\n",
       "      <td>N</td>\n",
       "    </tr>\n",
       "    <tr>\n",
       "      <th>2</th>\n",
       "      <td>LP001005</td>\n",
       "      <td>Male</td>\n",
       "      <td>Yes</td>\n",
       "      <td>0</td>\n",
       "      <td>Graduate</td>\n",
       "      <td>Yes</td>\n",
       "      <td>3000</td>\n",
       "      <td>0.0</td>\n",
       "      <td>66.0</td>\n",
       "      <td>360.0</td>\n",
       "      <td>1.0</td>\n",
       "      <td>Urban</td>\n",
       "      <td>Y</td>\n",
       "    </tr>\n",
       "    <tr>\n",
       "      <th>3</th>\n",
       "      <td>LP001006</td>\n",
       "      <td>Male</td>\n",
       "      <td>Yes</td>\n",
       "      <td>0</td>\n",
       "      <td>Not Graduate</td>\n",
       "      <td>No</td>\n",
       "      <td>2583</td>\n",
       "      <td>2358.0</td>\n",
       "      <td>120.0</td>\n",
       "      <td>360.0</td>\n",
       "      <td>1.0</td>\n",
       "      <td>Urban</td>\n",
       "      <td>Y</td>\n",
       "    </tr>\n",
       "    <tr>\n",
       "      <th>4</th>\n",
       "      <td>LP001008</td>\n",
       "      <td>Male</td>\n",
       "      <td>No</td>\n",
       "      <td>0</td>\n",
       "      <td>Graduate</td>\n",
       "      <td>No</td>\n",
       "      <td>6000</td>\n",
       "      <td>0.0</td>\n",
       "      <td>141.0</td>\n",
       "      <td>360.0</td>\n",
       "      <td>1.0</td>\n",
       "      <td>Urban</td>\n",
       "      <td>Y</td>\n",
       "    </tr>\n",
       "  </tbody>\n",
       "</table>\n",
       "</div>"
      ],
      "text/plain": [
       "    Loan_ID Gender Married Dependents     Education Self_Employed  \\\n",
       "0  LP001002   Male      No          0      Graduate            No   \n",
       "1  LP001003   Male     Yes          1      Graduate            No   \n",
       "2  LP001005   Male     Yes          0      Graduate           Yes   \n",
       "3  LP001006   Male     Yes          0  Not Graduate            No   \n",
       "4  LP001008   Male      No          0      Graduate            No   \n",
       "\n",
       "   ApplicantIncome  CoapplicantIncome  LoanAmount  Loan_Amount_Term  \\\n",
       "0             5849                0.0         NaN             360.0   \n",
       "1             4583             1508.0       128.0             360.0   \n",
       "2             3000                0.0        66.0             360.0   \n",
       "3             2583             2358.0       120.0             360.0   \n",
       "4             6000                0.0       141.0             360.0   \n",
       "\n",
       "   Credit_History Property_Area Loan_Status  \n",
       "0             1.0         Urban           Y  \n",
       "1             1.0         Rural           N  \n",
       "2             1.0         Urban           Y  \n",
       "3             1.0         Urban           Y  \n",
       "4             1.0         Urban           Y  "
      ]
     },
     "execution_count": 3,
     "metadata": {},
     "output_type": "execute_result"
    }
   ],
   "source": [
    "train.head()"
   ]
  },
  {
   "cell_type": "code",
   "execution_count": 4,
   "metadata": {},
   "outputs": [
    {
     "data": {
      "text/html": [
       "<div>\n",
       "<style scoped>\n",
       "    .dataframe tbody tr th:only-of-type {\n",
       "        vertical-align: middle;\n",
       "    }\n",
       "\n",
       "    .dataframe tbody tr th {\n",
       "        vertical-align: top;\n",
       "    }\n",
       "\n",
       "    .dataframe thead th {\n",
       "        text-align: right;\n",
       "    }\n",
       "</style>\n",
       "<table border=\"1\" class=\"dataframe\">\n",
       "  <thead>\n",
       "    <tr style=\"text-align: right;\">\n",
       "      <th></th>\n",
       "      <th>Loan_ID</th>\n",
       "      <th>Gender</th>\n",
       "      <th>Married</th>\n",
       "      <th>Dependents</th>\n",
       "      <th>Education</th>\n",
       "      <th>Self_Employed</th>\n",
       "      <th>ApplicantIncome</th>\n",
       "      <th>CoapplicantIncome</th>\n",
       "      <th>LoanAmount</th>\n",
       "      <th>Loan_Amount_Term</th>\n",
       "      <th>Credit_History</th>\n",
       "      <th>Property_Area</th>\n",
       "    </tr>\n",
       "  </thead>\n",
       "  <tbody>\n",
       "    <tr>\n",
       "      <th>0</th>\n",
       "      <td>LP001015</td>\n",
       "      <td>Male</td>\n",
       "      <td>Yes</td>\n",
       "      <td>0</td>\n",
       "      <td>Graduate</td>\n",
       "      <td>No</td>\n",
       "      <td>5720</td>\n",
       "      <td>0</td>\n",
       "      <td>110.0</td>\n",
       "      <td>360.0</td>\n",
       "      <td>1.0</td>\n",
       "      <td>Urban</td>\n",
       "    </tr>\n",
       "    <tr>\n",
       "      <th>1</th>\n",
       "      <td>LP001022</td>\n",
       "      <td>Male</td>\n",
       "      <td>Yes</td>\n",
       "      <td>1</td>\n",
       "      <td>Graduate</td>\n",
       "      <td>No</td>\n",
       "      <td>3076</td>\n",
       "      <td>1500</td>\n",
       "      <td>126.0</td>\n",
       "      <td>360.0</td>\n",
       "      <td>1.0</td>\n",
       "      <td>Urban</td>\n",
       "    </tr>\n",
       "    <tr>\n",
       "      <th>2</th>\n",
       "      <td>LP001031</td>\n",
       "      <td>Male</td>\n",
       "      <td>Yes</td>\n",
       "      <td>2</td>\n",
       "      <td>Graduate</td>\n",
       "      <td>No</td>\n",
       "      <td>5000</td>\n",
       "      <td>1800</td>\n",
       "      <td>208.0</td>\n",
       "      <td>360.0</td>\n",
       "      <td>1.0</td>\n",
       "      <td>Urban</td>\n",
       "    </tr>\n",
       "    <tr>\n",
       "      <th>3</th>\n",
       "      <td>LP001035</td>\n",
       "      <td>Male</td>\n",
       "      <td>Yes</td>\n",
       "      <td>2</td>\n",
       "      <td>Graduate</td>\n",
       "      <td>No</td>\n",
       "      <td>2340</td>\n",
       "      <td>2546</td>\n",
       "      <td>100.0</td>\n",
       "      <td>360.0</td>\n",
       "      <td>NaN</td>\n",
       "      <td>Urban</td>\n",
       "    </tr>\n",
       "    <tr>\n",
       "      <th>4</th>\n",
       "      <td>LP001051</td>\n",
       "      <td>Male</td>\n",
       "      <td>No</td>\n",
       "      <td>0</td>\n",
       "      <td>Not Graduate</td>\n",
       "      <td>No</td>\n",
       "      <td>3276</td>\n",
       "      <td>0</td>\n",
       "      <td>78.0</td>\n",
       "      <td>360.0</td>\n",
       "      <td>1.0</td>\n",
       "      <td>Urban</td>\n",
       "    </tr>\n",
       "  </tbody>\n",
       "</table>\n",
       "</div>"
      ],
      "text/plain": [
       "    Loan_ID Gender Married Dependents     Education Self_Employed  \\\n",
       "0  LP001015   Male     Yes          0      Graduate            No   \n",
       "1  LP001022   Male     Yes          1      Graduate            No   \n",
       "2  LP001031   Male     Yes          2      Graduate            No   \n",
       "3  LP001035   Male     Yes          2      Graduate            No   \n",
       "4  LP001051   Male      No          0  Not Graduate            No   \n",
       "\n",
       "   ApplicantIncome  CoapplicantIncome  LoanAmount  Loan_Amount_Term  \\\n",
       "0             5720                  0       110.0             360.0   \n",
       "1             3076               1500       126.0             360.0   \n",
       "2             5000               1800       208.0             360.0   \n",
       "3             2340               2546       100.0             360.0   \n",
       "4             3276                  0        78.0             360.0   \n",
       "\n",
       "   Credit_History Property_Area  \n",
       "0             1.0         Urban  \n",
       "1             1.0         Urban  \n",
       "2             1.0         Urban  \n",
       "3             NaN         Urban  \n",
       "4             1.0         Urban  "
      ]
     },
     "execution_count": 4,
     "metadata": {},
     "output_type": "execute_result"
    }
   ],
   "source": [
    "test.head()"
   ]
  },
  {
   "cell_type": "code",
   "execution_count": 5,
   "metadata": {},
   "outputs": [
    {
     "data": {
      "text/plain": [
       "((614, 13), (367, 12))"
      ]
     },
     "execution_count": 5,
     "metadata": {},
     "output_type": "execute_result"
    }
   ],
   "source": [
    "train.shape, test.shape"
   ]
  },
  {
   "cell_type": "markdown",
   "metadata": {},
   "source": [
    "One feature that obviously will have no effect on the model is the \"Loan_ID\", which is a different number for each client, so this column can be dropped already:"
   ]
  },
  {
   "cell_type": "code",
   "execution_count": 6,
   "metadata": {
    "code_folding": []
   },
   "outputs": [],
   "source": [
    "train.drop('Loan_ID', axis = 1, inplace = True)\n",
    "test.drop('Loan_ID', axis = 1, inplace = True)"
   ]
  },
  {
   "cell_type": "markdown",
   "metadata": {},
   "source": [
    "### 2.1 Variables description:\n",
    "\n",
    "**Categorical features**:\n",
    "\n",
    "* **Gender**:\t              Male/ Female\n",
    "* **Married**:\t              Applicant married (Y/N)\n",
    "* **Self_Employed**:\t      Self employed (Y/N)\n",
    "* **Credit_History**:\t      Credit history meets guidelines (1 or 0, which is \"yes\" or \"no\" after being encoded)\n",
    "* **Loan_Status**:\t          Loan approved (Y/N)    \n",
    "\n",
    "\n",
    "**Ordinal features**:\n",
    "\n",
    "* **Dependents**:\t          Number of dependents\n",
    "* **Education**:\t          Applicant Education (Graduate/ Under Graduate)\n",
    "* **Property_Area**:\t      Urban/ Semi Urban/ Rural\n",
    "\n",
    "**Numerical features**:\n",
    "\n",
    "* **ApplicantIncome**:\t      Applicant income\n",
    "* **CoapplicantIncome**:\t  Coapplicant income\n",
    "* **LoanAmount**:\t          Loan amount in thousands\n",
    "* **Loan_Amount_Term**:\t      Term of loan in months\n",
    "\n",
    "The Target Variable, which is the one being predicted is the **Loan_Status** and it's present only in the train set."
   ]
  },
  {
   "cell_type": "markdown",
   "metadata": {},
   "source": [
    "#### Checking for missing values in the dataset"
   ]
  },
  {
   "cell_type": "code",
   "execution_count": 7,
   "metadata": {},
   "outputs": [
    {
     "data": {
      "text/plain": [
       "Gender               13\n",
       "Married               3\n",
       "Dependents           15\n",
       "Education             0\n",
       "Self_Employed        32\n",
       "ApplicantIncome       0\n",
       "CoapplicantIncome     0\n",
       "LoanAmount           22\n",
       "Loan_Amount_Term     14\n",
       "Credit_History       50\n",
       "Property_Area         0\n",
       "Loan_Status           0\n",
       "dtype: int64"
      ]
     },
     "execution_count": 7,
     "metadata": {},
     "output_type": "execute_result"
    }
   ],
   "source": [
    "train.isnull().sum()"
   ]
  },
  {
   "cell_type": "markdown",
   "metadata": {},
   "source": [
    "A good way to take care of those missing numerical values is by replacing them with them **median** from that feature, and for categorial variables the **mode** is most often used, which will be done after first initial visualizations."
   ]
  },
  {
   "cell_type": "markdown",
   "metadata": {},
   "source": [
    "### 2.2 Univariate Analysis"
   ]
  },
  {
   "cell_type": "markdown",
   "metadata": {},
   "source": [
    "Doing univariate analysis is the simplest form of analyzing data where each variable is examined individually. For categorical features the frequency table or bar plots shows the numbers of each category in a particular variable. For numerical features, probability density plots can be used to look at the distribution of the variable.\n",
    "\n",
    "#### 2.2.1 target Variable \n",
    "As it is a categorical variable, the frequency table, percentage distribution and bar plot should be enough to understand it better. The Frequency table of a variable will give us the count of each category in that variable."
   ]
  },
  {
   "cell_type": "code",
   "execution_count": 8,
   "metadata": {},
   "outputs": [
    {
     "data": {
      "image/png": "[encoded data removed]",
      "text/plain": [
       "<Figure size 432x288 with 1 Axes>"
      ]
     },
     "metadata": {
      "needs_background": "light"
     },
     "output_type": "display_data"
    }
   ],
   "source": [
    "train['Loan_Status'].value_counts().plot.bar();"
   ]
  },
  {
   "cell_type": "code",
   "execution_count": 9,
   "metadata": {},
   "outputs": [
    {
     "name": "stdout",
     "output_type": "stream",
     "text": [
      "Y    0.687296\n",
      "N    0.312704\n",
      "Name: Loan_Status, dtype: float64\n"
     ]
    }
   ],
   "source": [
    "# Setting the parameter Normalize to True can be used to print proportions instead of number \n",
    "print(train['Loan_Status'].value_counts(normalize=True))"
   ]
  },
  {
   "cell_type": "markdown",
   "metadata": {},
   "source": [
    "#### 2.2.2 Categorical Features"
   ]
  },
  {
   "cell_type": "code",
   "execution_count": 10,
   "metadata": {},
   "outputs": [
    {
     "data": {
      "image/png": "[encoded data removed]",
      "text/plain": [
       "<Figure size 864x720 with 4 Axes>"
      ]
     },
     "metadata": {
      "needs_background": "light"
     },
     "output_type": "display_data"
    }
   ],
   "source": [
    "#Plotting proportions of categories in each variable\n",
    "plt.subplot(221) \n",
    "train['Gender'].value_counts(normalize=True).plot.bar(figsize=(12,10), title= 'Gender') \n",
    "plt.subplot(222) \n",
    "train['Married'].value_counts(normalize=True).plot.bar(title= 'Married') \n",
    "plt.subplot(223) \n",
    "train['Self_Employed'].value_counts(normalize=True).plot.bar(title= 'Self_Employed') \n",
    "plt.subplot(224) \n",
    "train['Credit_History'].value_counts(normalize=True).plot.bar(title= 'Credit_History') \n",
    "plt.show()"
   ]
  },
  {
   "cell_type": "markdown",
   "metadata": {},
   "source": [
    "From these bar plots can be seen that:\n",
    "\n",
    "* ~ 80% applicants in the dataset are male.\n",
    "* ~ 65% of the applicants in the dataset are married.\n",
    "* ~ 15% applicants in the dataset are self employed.\n",
    "* ~ 85% applicants have repaid their debts."
   ]
  },
  {
   "cell_type": "markdown",
   "metadata": {},
   "source": [
    "#### 2.2.3 Ordinal Features"
   ]
  },
  {
   "cell_type": "code",
   "execution_count": 11,
   "metadata": {},
   "outputs": [
    {
     "data": {
      "image/png": "[encoded data removed]",
      "text/plain": [
       "<Figure size 1080x432 with 3 Axes>"
      ]
     },
     "metadata": {
      "needs_background": "light"
     },
     "output_type": "display_data"
    }
   ],
   "source": [
    "#Plotting proportions of categories in each variable\n",
    "plt.subplot(131) \n",
    "train['Dependents'].value_counts(normalize=True).plot.bar(figsize=(15,6), title= 'Dependents') \n",
    "plt.subplot(132) \n",
    "train['Education'].value_counts(normalize=True).plot.bar(title= 'Education') \n",
    "plt.subplot(133) \n",
    "train['Property_Area'].value_counts(normalize=True).plot.bar(title= 'Property_Area') \n",
    "plt.show()"
   ]
  },
  {
   "cell_type": "markdown",
   "metadata": {},
   "source": [
    "From these bar plots can be seen that:\n",
    "\n",
    "* The majority of the applicants have no dependents.\n",
    "* ~ 80% of the applicants are Graduate.\n",
    "* The majority of the applicants are from Semiurban area."
   ]
  },
  {
   "cell_type": "markdown",
   "metadata": {},
   "source": [
    "#### 2.2.4 Numerical Features"
   ]
  },
  {
   "cell_type": "markdown",
   "metadata": {},
   "source": [
    " * **Visualizing the applicant income distribution.**"
   ]
  },
  {
   "cell_type": "code",
   "execution_count": 12,
   "metadata": {},
   "outputs": [
    {
     "data": {
      "image/png": "[encoded data removed]",
      "text/plain": [
       "<Figure size 1152x360 with 2 Axes>"
      ]
     },
     "metadata": {
      "needs_background": "light"
     },
     "output_type": "display_data"
    }
   ],
   "source": [
    "plt.subplot(121) \n",
    "sns.distplot(train['ApplicantIncome']);\n",
    "plt.xlabel('Applicant Income ($k)')\n",
    "plt.title('')\n",
    "plt.subplot(122) \n",
    "train['ApplicantIncome'].plot.box(figsize=(16,5)) \n",
    "plt.show()"
   ]
  },
  {
   "cell_type": "markdown",
   "metadata": {},
   "source": [
    "* In the density plot and Histogram on the left, can be seen that the applicant income distribution is towarded left, meaning    that it's not normally distributed. \n",
    "* The boxplot on the right shows a lot of outliers, which could be due to the economic inequality in society. A cause for this inequality could come from different education levels:"
   ]
  },
  {
   "cell_type": "code",
   "execution_count": 13,
   "metadata": {},
   "outputs": [
    {
     "data": {
      "image/png": "[encoded data removed]",
      "text/plain": [
       "<Figure size 432x288 with 1 Axes>"
      ]
     },
     "metadata": {
      "needs_background": "light"
     },
     "output_type": "display_data"
    }
   ],
   "source": [
    "train.boxplot(column='ApplicantIncome', by = 'Education')\n",
    "plt.title(\"\");"
   ]
  },
  {
   "cell_type": "markdown",
   "metadata": {},
   "source": [
    "This boxplot confirms that the number of graduates with very high incomes is higher than not graduates, but the median income of graduate and non-graduates, so they can be considered outliers."
   ]
  },
  {
   "cell_type": "markdown",
   "metadata": {},
   "source": [
    " * **Visualizing the Coapplicant income distribution.**"
   ]
  },
  {
   "cell_type": "code",
   "execution_count": 14,
   "metadata": {},
   "outputs": [
    {
     "data": {
      "image/png": "[encoded data removed]",
      "text/plain": [
       "<Figure size 864x360 with 2 Axes>"
      ]
     },
     "metadata": {
      "needs_background": "light"
     },
     "output_type": "display_data"
    }
   ],
   "source": [
    "plt.subplot(121) \n",
    "sns.distplot(train['CoapplicantIncome']); \n",
    "plt.subplot(122) \n",
    "train['CoapplicantIncome'].plot.box(figsize=(12,5)) \n",
    "plt.show()"
   ]
  },
  {
   "cell_type": "markdown",
   "metadata": {},
   "source": [
    "This variable also has a lot of outliers "
   ]
  },
  {
   "cell_type": "markdown",
   "metadata": {},
   "source": [
    " * **Visualizing the Loan Amount distribution.**"
   ]
  },
  {
   "cell_type": "code",
   "execution_count": 15,
   "metadata": {},
   "outputs": [],
   "source": [
    "#Replacing missing values in variable with median\n",
    "train['LoanAmount'].fillna(train['LoanAmount'].median(), inplace=True)"
   ]
  },
  {
   "cell_type": "code",
   "execution_count": 16,
   "metadata": {},
   "outputs": [
    {
     "data": {
      "image/png": "[encoded data removed]",
      "text/plain": [
       "<Figure size 864x360 with 2 Axes>"
      ]
     },
     "metadata": {
      "needs_background": "light"
     },
     "output_type": "display_data"
    },
    {
     "name": "stdout",
     "output_type": "stream",
     "text": [
      "Mean loan amount: 145.75244299674267 k$\n"
     ]
    }
   ],
   "source": [
    "plt.subplot(121) \n",
    "sns.distplot(train['LoanAmount']); \n",
    "plt.subplot(122) \n",
    "train['LoanAmount'].plot.box(figsize=(12,5)) \n",
    "plt.show()\n",
    "print('Mean loan amount: ' + str(train['LoanAmount'].mean()) + ' k$')"
   ]
  },
  {
   "cell_type": "markdown",
   "metadata": {},
   "source": [
    " * **Visualizing the term of loan in months distribution.**"
   ]
  },
  {
   "cell_type": "code",
   "execution_count": 17,
   "metadata": {},
   "outputs": [
    {
     "data": {
      "image/png": "[encoded data removed]",
      "text/plain": [
       "<Figure size 864x360 with 2 Axes>"
      ]
     },
     "metadata": {
      "needs_background": "light"
     },
     "output_type": "display_data"
    },
    {
     "name": "stdout",
     "output_type": "stream",
     "text": [
      "Mean of months: 342.0\n"
     ]
    }
   ],
   "source": [
    "plt.subplot(121) \n",
    "sns.distplot(train['Loan_Amount_Term']); \n",
    "plt.subplot(122) \n",
    "train['Loan_Amount_Term'].plot.box(figsize=(12,5)) \n",
    "plt.show()\n",
    "print('Mean of months: ' + str(train['Loan_Amount_Term'].mean()))"
   ]
  },
  {
   "cell_type": "markdown",
   "metadata": {},
   "source": [
    "### 2.3 Bivariate Analysis"
   ]
  },
  {
   "cell_type": "markdown",
   "metadata": {},
   "source": [
    "First, some hypothesis can be made out of the variables:\n",
    "* Higher income Applicants should have more loan approval chances.\n",
    "* Positive record, which is, Applicants who have paid their previous debts should have higher chances of loan approval.\n",
    "* Loan approval should also depend on the loan amount, with low loan amount getting higher loan approval.\n",
    "* The chances for loan approval are higher for loans that are paid low amounts monthly"
   ]
  },
  {
   "cell_type": "markdown",
   "metadata": {},
   "source": [
    "Visualizing categorical independent variables versus the dependent target varialbe with stacked bar plot:"
   ]
  },
  {
   "cell_type": "markdown",
   "metadata": {},
   "source": [
    "#### 2.3.1 Categorical features vs Loan Approval"
   ]
  },
  {
   "cell_type": "code",
   "execution_count": 18,
   "metadata": {},
   "outputs": [
    {
     "data": {
      "image/png": "[encoded data removed]",
      "text/plain": [
       "<Figure size 1080x288 with 4 Axes>"
      ]
     },
     "metadata": {
      "needs_background": "light"
     },
     "output_type": "display_data"
    }
   ],
   "source": [
    "Gender = pd.crosstab(train['Gender'], train['Loan_Status']) \n",
    "Married = pd.crosstab(train['Married'], train['Loan_Status']) \n",
    "Self_Employed = pd.crosstab(train['Self_Employed'], train['Loan_Status'])\n",
    "Credit_History = pd.crosstab(train['Credit_History'], train['Loan_Status']) \n",
    "\n",
    "#defining 1 row and 4 columns\n",
    "fig, axes = plt.subplots(1, 4, figsize =(10,4), sharey = True)\n",
    "\n",
    "Gender.div(Gender.sum(1).astype(float), axis=0).plot(kind = \"bar\", ax = axes[0], stacked=True)\n",
    "Married.div(Married.sum(1).astype(float), axis=0).plot(kind=\"bar\", ax = axes[1], stacked=True)\n",
    "Self_Employed.div(Self_Employed.sum(1).astype(float), axis=0).plot(kind = \"bar\",ax = axes[2], stacked=True)\n",
    "Credit_History.div(Credit_History.sum(1).astype(float), axis=0).plot(kind=\"bar\",ax=axes[3], stacked=True, figsize=(15,4)) ;"
   ]
  },
  {
   "cell_type": "markdown",
   "metadata": {},
   "source": [
    "From this comparison it can be seen that:\n",
    "\n",
    "* It can be seen the proportion from male and female that got their loans approved is almost the same.\n",
    "* The married applicants get more loans approved comparing to single applicants.\n",
    "* The Self Employed vs Loan_Status plot doesn't help much because it has the same proportion to classes.\n",
    "* Applicants that have credit history as 1 are much more likely to get their loans approved."
   ]
  },
  {
   "cell_type": "markdown",
   "metadata": {},
   "source": [
    "#### 2.3.2 Ordinal Features vs Loan Status"
   ]
  },
  {
   "cell_type": "code",
   "execution_count": 19,
   "metadata": {},
   "outputs": [
    {
     "data": {
      "image/png": "[encoded data removed]",
      "text/plain": [
       "<Figure size 1080x288 with 3 Axes>"
      ]
     },
     "metadata": {
      "needs_background": "light"
     },
     "output_type": "display_data"
    }
   ],
   "source": [
    "Property_Area = pd.crosstab(train['Property_Area'], train['Loan_Status']) \n",
    "Dependents = pd.crosstab(train['Dependents'], train['Loan_Status']) \n",
    "Education = pd.crosstab(train['Education'], train['Loan_Status']) \n",
    "\n",
    "#defining 1 row and 3 columns\n",
    "fig, axes = plt.subplots(1, 3, figsize = (15, 4), sharey=True)\n",
    "\n",
    "Education.div(Education.sum(1).astype(float), axis=0).plot(kind = \"bar\", ax = axes[0], stacked=True) \n",
    "Property_Area.div(Property_Area.sum(1).astype(float), axis=0).plot(kind = \"bar\", ax = axes[1], stacked = True)\n",
    "Dependents.div(Dependents.sum(1).astype(float), axis=0).plot(kind = \"bar\", ax = axes[2], stacked = True);"
   ]
  },
  {
   "cell_type": "markdown",
   "metadata": {},
   "source": [
    "From this comparison it can be seen that:\n",
    "\n",
    "* Graduate applicants have a higher approval rate than non-graduates.\n",
    "* Proportion of loans getting approved in semiurban area is higher as compared to that in rural or urban areas.\n",
    "* The distribution of applicants approval vs dependents number is in general similar."
   ]
  },
  {
   "cell_type": "markdown",
   "metadata": {},
   "source": [
    "#### 2.3.3 Numerical Features vs Loan Status"
   ]
  },
  {
   "cell_type": "code",
   "execution_count": 20,
   "metadata": {},
   "outputs": [
    {
     "data": {
      "image/png": "[encoded data removed]",
      "text/plain": [
       "<Figure size 432x288 with 1 Axes>"
      ]
     },
     "metadata": {
      "needs_background": "light"
     },
     "output_type": "display_data"
    }
   ],
   "source": [
    "#Comparing Loan Status to mean income\n",
    "train.groupby('Loan_Status')['ApplicantIncome'].mean().plot.bar();"
   ]
  },
  {
   "cell_type": "markdown",
   "metadata": {},
   "source": [
    "There's nothing much to take from the mean comparison, so it's interesting to split the applicant income in some range categories to observe this tendency better."
   ]
  },
  {
   "cell_type": "code",
   "execution_count": 21,
   "metadata": {},
   "outputs": [
    {
     "data": {
      "image/png": "[encoded data removed]",
      "text/plain": [
       "<Figure size 576x288 with 1 Axes>"
      ]
     },
     "metadata": {
      "needs_background": "light"
     },
     "output_type": "display_data"
    }
   ],
   "source": [
    "bins = [0, 2000,4000,6000,80000] \n",
    "group=['Low income','Average income','High Income', 'Very high Income'] \n",
    "train['Income_bin'] = pd.cut(train['ApplicantIncome'], bins, labels = group)\n",
    "\n",
    "Income_bin = pd.crosstab(train['Income_bin'], train['Loan_Status']) \n",
    "Income_bin.div(Income_bin.sum(1).astype(float), axis=0).plot(kind=\"bar\", stacked=True, figsize = (8,4)) \n",
    "plt.title('Applicant Income sets') \n",
    "plt.xlabel('') \n",
    "plt.ylabel('Percentage')\n",
    "plt.xticks(rotation=0);"
   ]
  },
  {
   "cell_type": "markdown",
   "metadata": {},
   "source": [
    "This plot already shows that Low income applicants receive less loan approvals, but it's interesting to do the same analysis for the Coapplicants too."
   ]
  },
  {
   "cell_type": "code",
   "execution_count": 22,
   "metadata": {},
   "outputs": [
    {
     "data": {
      "image/png": "[encoded data removed]",
      "text/plain": [
       "<Figure size 576x288 with 1 Axes>"
      ]
     },
     "metadata": {
      "needs_background": "light"
     },
     "output_type": "display_data"
    }
   ],
   "source": [
    "bins = [0,1000,5000,40000] \n",
    "group_co = ['Low','Average','High']\n",
    "train['coapplicant_income_bin'] = pd.cut(train['CoapplicantIncome'], bins, labels = group_co)\n",
    "\n",
    "coapplicant_income_bin = pd.crosstab(train['coapplicant_income_bin'], train['Loan_Status']) \n",
    "coapplicant_income_bin.div(coapplicant_income_bin.sum(1).astype(float), axis=0).plot(kind=\"bar\", stacked=True, figsize = (8,4)) \n",
    "plt.title('Coapplicants Income sets') \n",
    "plt.xlabel('') \n",
    "plt.ylabel('Percentage')\n",
    "plt.xticks(rotation=0);"
   ]
  },
  {
   "cell_type": "markdown",
   "metadata": {},
   "source": [
    "From this plot it can be understood that if coapplicant's income is low, then the chances of loan approval are high, which is strange. A possible reason for this may be the fact the majority of the applicants don’t have any coapplicant, so the coapplicant income for those applicants is 0. Considering this, the coapplicat income alone is not much useful in the analysis, so a good idea is to combine the applicant income with the coapplicant income to form a new variable, and then visualize the combined effect of income on loan approval."
   ]
  },
  {
   "cell_type": "code",
   "execution_count": 23,
   "metadata": {},
   "outputs": [
    {
     "data": {
      "image/png": "[encoded data removed]",
      "text/plain": [
       "<Figure size 432x288 with 1 Axes>"
      ]
     },
     "metadata": {
      "needs_background": "light"
     },
     "output_type": "display_data"
    }
   ],
   "source": [
    "train['Total_Income'] = train['ApplicantIncome']+train['CoapplicantIncome']\n",
    "\n",
    "bins = [0, 2000,4000,6000,80000] \n",
    "group=['Low','Average','High', 'Very high'] \n",
    "\n",
    "train['Total_Income_bin']=pd.cut(train['Total_Income'],bins,labels=group)\n",
    "Total_Income_bin=pd.crosstab(train['Total_Income_bin'],train['Loan_Status']) \n",
    "\n",
    "Total_Income_bin.div(Total_Income_bin.sum(1).astype(float), axis=0).plot(kind=\"bar\", stacked=True)\n",
    "plt.title('Total Income') \n",
    "plt.xlabel('') \n",
    "plt.ylabel('Percentage')\n",
    "plt.xticks(rotation=0);"
   ]
  },
  {
   "cell_type": "markdown",
   "metadata": {},
   "source": [
    "The Proportion of loans approved for applicants having low Total Income is way lower now than before, compared to applicants with Higher Income."
   ]
  },
  {
   "cell_type": "markdown",
   "metadata": {},
   "source": [
    "Lastly, it's useful to have a look at the **loan amount** against **loan approval** plot:"
   ]
  },
  {
   "cell_type": "code",
   "execution_count": 24,
   "metadata": {},
   "outputs": [
    {
     "data": {
      "image/png": "[encoded data removed]",
      "text/plain": [
       "<Figure size 432x288 with 1 Axes>"
      ]
     },
     "metadata": {
      "needs_background": "light"
     },
     "output_type": "display_data"
    }
   ],
   "source": [
    "#from the loan ammount distribution plot, \n",
    "bins = [0,80,200,600]\n",
    "group = ['Low','Average','High']\n",
    "train['LoanAmount_bin'] = pd.cut(train['LoanAmount'], bins, labels = group)\n",
    "\n",
    "LoanAmount_bin = pd.crosstab(train['LoanAmount_bin'], train['Loan_Status']) \n",
    "LoanAmount_bin.div(LoanAmount_bin.sum(1).astype(float), axis=0).plot(kind=\"bar\", stacked=True) \n",
    "plt.title('Loan Amount')\n",
    "plt.xlabel('')\n",
    "plt.ylabel('Percentage')\n",
    "plt.xticks(rotation = 0);"
   ]
  },
  {
   "cell_type": "markdown",
   "metadata": {},
   "source": [
    "The hypothesis that loans have a higher approval chance for low loan ammount and lower approval chances for high loan amounts is confirmed with this plot"
   ]
  },
  {
   "cell_type": "markdown",
   "metadata": {},
   "source": [
    "#### 2.3.4 Correlation Matrix"
   ]
  },
  {
   "cell_type": "markdown",
   "metadata": {},
   "source": [
    "A Correlation Matrix plot gives an indication of how two variables are correlated, that is, how changes in one variable can affect the other variable. If two variables change in the same direction they are positively correlated and if they change in the opposite direction toghether, they are negatively correlated.\n",
    "This is useful because some machine learning algorithms as linear and logistic regression can have poor performance if there are highly correlated input variables in your data."
   ]
  },
  {
   "cell_type": "markdown",
   "metadata": {
    "hide_input": false
   },
   "source": [
    "Dropping the bins created in the previous sections because they're not need for the correlation matrix nor in the rest of this project. In the dependents feature, it's necesary to change the 3+ to 3 to make it a numerical variable. Another operation necessarry is to convert the target variable’s categories into 0 and 1 so its correlation with numerical variables can be found, and also most of algorithms like logistic regression takes only numeric values as input, so one way out is to replace N with 0 and Y with 1."
   ]
  },
  {
   "cell_type": "code",
   "execution_count": 25,
   "metadata": {},
   "outputs": [
    {
     "data": {
      "image/png": "[encoded data removed]",
      "text/plain": [
       "<Figure size 648x432 with 2 Axes>"
      ]
     },
     "metadata": {
      "needs_background": "light"
     },
     "output_type": "display_data"
    }
   ],
   "source": [
    "#Dropping the bins created in the previous sections \n",
    "train = train.drop(['Income_bin', 'coapplicant_income_bin', 'LoanAmount_bin', 'Total_Income_bin', 'Total_Income'], axis=1)\n",
    "\n",
    "#replacing 3+ with 3 and\n",
    "train['Dependents'].replace('3+', 3,inplace=True) \n",
    "test['Dependents'].replace('3+', 3,inplace=True) \n",
    "\n",
    "#replacing N with 0 and Y with 1\n",
    "train['Loan_Status'].replace('N', 0,inplace=True) \n",
    "train['Loan_Status'].replace('Y', 1,inplace=True)\n",
    "\n",
    "#creting correlation matrix\n",
    "matrix = train.corr() \n",
    "\n",
    "#plotting correlation matrix in a heatmap\n",
    "f, ax = plt.subplots(figsize=(9, 6)) \n",
    "sns.heatmap(matrix, vmax=.8, square=True, cmap=\"BuPu\");"
   ]
  },
  {
   "cell_type": "markdown",
   "metadata": {},
   "source": [
    "As expected, the most correlated variables are (ApplicantIncome - LoanAmount) and (Credit_History - Loan_Status)."
   ]
  },
  {
   "cell_type": "markdown",
   "metadata": {},
   "source": [
    "## 3. Feature Engineering"
   ]
  },
  {
   "cell_type": "markdown",
   "metadata": {},
   "source": [
    "### 3.1 Missing Values and Outliers Treatment"
   ]
  },
  {
   "cell_type": "markdown",
   "metadata": {},
   "source": [
    "From the previous analysis, the features with missing values were 'Gender','Married', 'Dependents', 'Self_employed', 'LoanAmount', 'Loan_Amount_Term' and 'Credit_History'.\n",
    "\n",
    "So starting with the categorical features, a good way to replace **missing values** is using the Mode, which takes the most commom value in the column:"
   ]
  },
  {
   "cell_type": "code",
   "execution_count": 26,
   "metadata": {},
   "outputs": [],
   "source": [
    "train['Gender'].fillna(train['Gender'].mode()[0], inplace=True)\n",
    "train['Married'].fillna(train['Married'].mode()[0], inplace=True) \n",
    "train['Dependents'].fillna(train['Dependents'].mode()[0], inplace=True) \n",
    "train['Self_Employed'].fillna(train['Self_Employed'].mode()[0], inplace=True) \n",
    "train['Credit_History'].fillna(train['Credit_History'].mode()[0], inplace=True)"
   ]
  },
  {
   "cell_type": "markdown",
   "metadata": {},
   "source": [
    "The last feature now with missing values is the 'Loan_Amount_Term', so let's take a look at it's values:"
   ]
  },
  {
   "cell_type": "code",
   "execution_count": 27,
   "metadata": {},
   "outputs": [
    {
     "data": {
      "text/plain": [
       "360.0    512\n",
       "180.0     44\n",
       "480.0     15\n",
       "300.0     13\n",
       "84.0       4\n",
       "240.0      4\n",
       "120.0      3\n",
       "36.0       2\n",
       "60.0       2\n",
       "12.0       1\n",
       "Name: Loan_Amount_Term, dtype: int64"
      ]
     },
     "execution_count": 27,
     "metadata": {},
     "output_type": "execute_result"
    }
   ],
   "source": [
    "train['Loan_Amount_Term'].value_counts()"
   ]
  },
  {
   "cell_type": "code",
   "execution_count": 28,
   "metadata": {},
   "outputs": [],
   "source": [
    "train['Loan_Amount_Term'].fillna(train['Loan_Amount_Term'].mode()[0], inplace=True)"
   ]
  },
  {
   "cell_type": "markdown",
   "metadata": {},
   "source": [
    "Checking now if there's any missing value"
   ]
  },
  {
   "cell_type": "code",
   "execution_count": 29,
   "metadata": {},
   "outputs": [
    {
     "data": {
      "text/plain": [
       "Gender               0\n",
       "Married              0\n",
       "Dependents           0\n",
       "Education            0\n",
       "Self_Employed        0\n",
       "ApplicantIncome      0\n",
       "CoapplicantIncome    0\n",
       "LoanAmount           0\n",
       "Loan_Amount_Term     0\n",
       "Credit_History       0\n",
       "Property_Area        0\n",
       "Loan_Status          0\n",
       "dtype: int64"
      ]
     },
     "execution_count": 29,
     "metadata": {},
     "output_type": "execute_result"
    }
   ],
   "source": [
    "train.isnull().sum()"
   ]
  },
  {
   "cell_type": "markdown",
   "metadata": {},
   "source": [
    "Doing the same now for the test set:"
   ]
  },
  {
   "cell_type": "code",
   "execution_count": 30,
   "metadata": {},
   "outputs": [],
   "source": [
    "test['Gender'].fillna(train['Gender'].mode()[0], inplace=True) \n",
    "test['Dependents'].fillna(train['Dependents'].mode()[0], inplace=True) \n",
    "test['Self_Employed'].fillna(train['Self_Employed'].mode()[0], inplace=True) \n",
    "test['Credit_History'].fillna(train['Credit_History'].mode()[0], inplace=True) \n",
    "test['Loan_Amount_Term'].fillna(train['Loan_Amount_Term'].mode()[0], inplace=True)\n",
    "test['LoanAmount'].fillna(train['LoanAmount'].median(), inplace=True)"
   ]
  },
  {
   "cell_type": "markdown",
   "metadata": {},
   "source": [
    "**Taking care now of the outliers**"
   ]
  },
  {
   "cell_type": "markdown",
   "metadata": {},
   "source": [
    "from the previous analysis the features 'LoanAmount' and 'ApplicantIncome' had a lot of outliers so it's necessary to remove them, because outliers often have a negative impact on the mean and standard deviation and hence affecting the distribution.\n",
    "\n",
    "These outliers can make the data have a skewness to the right, and one way to remove this skewness is by doing a log transformation, because it doesn't affect the smaller values very much, but reduces the larger values. So, we get a distribution similar to normal distribution."
   ]
  },
  {
   "cell_type": "code",
   "execution_count": 31,
   "metadata": {},
   "outputs": [
    {
     "data": {
      "image/png": "[encoded data removed]",
      "text/plain": [
       "<Figure size 1080x360 with 2 Axes>"
      ]
     },
     "metadata": {
      "needs_background": "light"
     },
     "output_type": "display_data"
    }
   ],
   "source": [
    "train['LoanAmount_log'] = np.log(train['LoanAmount']) \n",
    "test['LoanAmount_log'] = np.log(test['LoanAmount'])\n",
    "\n",
    "plt.subplot(121)\n",
    "train['LoanAmount_log'].hist(bins=20) \n",
    "plt.title('Train Set Loan Amount Distribution')\n",
    "plt.subplot(122)\n",
    "plt.title('Test Set Loan Amount Distribution')\n",
    "test['LoanAmount_log'].hist(bins=20, figsize = (15,5));"
   ]
  },
  {
   "cell_type": "markdown",
   "metadata": {},
   "source": [
    "Now it looks much better and we're ready to start developing a predictive model on our dataset."
   ]
  },
  {
   "cell_type": "markdown",
   "metadata": {},
   "source": [
    "### 3.2 Features Combinations"
   ]
  },
  {
   "cell_type": "markdown",
   "metadata": {},
   "source": [
    "New features that might affect the target variable can be created by combining previous features:\n",
    "\n",
    "* **Total Income**: This is the sum of Applicant and Coapplicant incomes and as analysed before, it has a higher corelation with the target variable\n",
    "* **EMI**: This is the monthly amount paid by the applicant to repay the loan, and can be calculated just by taking the loan amount ratio with respect to loan amount term.. People with high EMI’s may find it herder to pay the loan back. \n",
    "* **Balance Income**: This is the income left after the EMI has been paid. The Idea of creating this feature is that if this value is high, the chances are high that a person will repay the loan and hence increasing the chances of loan approval."
   ]
  },
  {
   "cell_type": "markdown",
   "metadata": {},
   "source": [
    "* **Creating Total Income**:"
   ]
  },
  {
   "cell_type": "code",
   "execution_count": 32,
   "metadata": {},
   "outputs": [
    {
     "data": {
      "image/png": "[encoded data removed]",
      "text/plain": [
       "<Figure size 432x288 with 1 Axes>"
      ]
     },
     "metadata": {
      "needs_background": "light"
     },
     "output_type": "display_data"
    }
   ],
   "source": [
    "train['Total_Income'] = train['ApplicantIncome'] + train['CoapplicantIncome'] \n",
    "test['Total_Income'] = test['ApplicantIncome'] + test['CoapplicantIncome']\n",
    "\n",
    "#Checking the Total Income distribution.\n",
    "sns.distplot(train['Total_Income']);"
   ]
  },
  {
   "cell_type": "markdown",
   "metadata": {},
   "source": [
    "Because the distribution is shifted towards left, it could add bias to the model, it's possible to perform the log transformation on it to make it's distribution normal:"
   ]
  },
  {
   "cell_type": "code",
   "execution_count": 33,
   "metadata": {},
   "outputs": [
    {
     "data": {
      "image/png": "[encoded data removed]",
      "text/plain": [
       "<Figure size 432x288 with 1 Axes>"
      ]
     },
     "metadata": {
      "needs_background": "light"
     },
     "output_type": "display_data"
    }
   ],
   "source": [
    "train['Total_Income_log'] = np.log(train['Total_Income']) \n",
    "test['Total_Income_log'] = np.log(test['Total_Income'])\n",
    "sns.distplot(train['Total_Income_log']); "
   ]
  },
  {
   "cell_type": "markdown",
   "metadata": {},
   "source": [
    "* **Creating EMI**:"
   ]
  },
  {
   "cell_type": "code",
   "execution_count": 34,
   "metadata": {},
   "outputs": [
    {
     "data": {
      "image/png": "[encoded data removed]",
      "text/plain": [
       "<Figure size 432x288 with 1 Axes>"
      ]
     },
     "metadata": {
      "needs_background": "light"
     },
     "output_type": "display_data"
    }
   ],
   "source": [
    "train['EMI'] = train['LoanAmount'] / train['Loan_Amount_Term'] \n",
    "test['EMI'] = test['LoanAmount'] / test['Loan_Amount_Term']\n",
    "sns.distplot(train['EMI']); "
   ]
  },
  {
   "cell_type": "markdown",
   "metadata": {},
   "source": [
    "Again, the distribution is shifted towards left, so perfoming th log transformation:"
   ]
  },
  {
   "cell_type": "code",
   "execution_count": 35,
   "metadata": {},
   "outputs": [
    {
     "data": {
      "image/png": "[encoded data removed]",
      "text/plain": [
       "<Figure size 432x288 with 1 Axes>"
      ]
     },
     "metadata": {
      "needs_background": "light"
     },
     "output_type": "display_data"
    }
   ],
   "source": [
    "train['EMI_log'] = np.log(train['EMI']) \n",
    "test['EMI_log'] = np.log(test['EMI'])\n",
    "sns.distplot(train['EMI_log']); "
   ]
  },
  {
   "cell_type": "markdown",
   "metadata": {},
   "source": [
    "* **Creating Balance Income**:"
   ]
  },
  {
   "cell_type": "code",
   "execution_count": 36,
   "metadata": {},
   "outputs": [
    {
     "data": {
      "image/png": "[encoded data removed]",
      "text/plain": [
       "<Figure size 432x288 with 1 Axes>"
      ]
     },
     "metadata": {
      "needs_background": "light"
     },
     "output_type": "display_data"
    }
   ],
   "source": [
    "# Multiply with 1000 to make the units equal \n",
    "train['Balance_Income'] = train['Total_Income'] - (train['EMI']*1000) \n",
    "test['Balance_Income'] = test['Total_Income'] - (test['EMI']*1000)\n",
    "sns.distplot(train['Balance_Income']);"
   ]
  },
  {
   "cell_type": "markdown",
   "metadata": {},
   "source": [
    "Again, the distribution is shifted towards left, so perfoming th log transformation:"
   ]
  },
  {
   "cell_type": "code",
   "execution_count": 37,
   "metadata": {},
   "outputs": [
    {
     "data": {
      "image/png": "[encoded data removed]",
      "text/plain": [
       "<Figure size 432x288 with 1 Axes>"
      ]
     },
     "metadata": {
      "needs_background": "light"
     },
     "output_type": "display_data"
    }
   ],
   "source": [
    "train['Balance_Income_log'] = np.log(train['Balance_Income']) \n",
    "test['Balance_Income_log'] = np.log(test['Balance_Income'])\n",
    "\n",
    "train['Balance_Income_log'].fillna(train['Balance_Income_log'].median(), inplace=True)\n",
    "test['Balance_Income_log'].fillna(test['Balance_Income_log'].median(), inplace=True)\n",
    "\n",
    "#train.dropna(subset=['Balance_Income_log'], inplace=True)\n",
    "#train['Balance_Income_log'].dropna(inplace = True)\n",
    "sns.distplot(train['Balance_Income_log']);"
   ]
  },
  {
   "cell_type": "markdown",
   "metadata": {},
   "source": [
    "Now it's necessary to drop the variables used to create these new features. The Reason for doing this is that the correlation between those old features and these new features will be very high and algorithms such as logistic regression assume that the variables are not highly correlated. We also wants to remove the noise from the dataset, so removing correlated features will help on it:"
   ]
  },
  {
   "cell_type": "code",
   "execution_count": 38,
   "metadata": {},
   "outputs": [],
   "source": [
    "train = train.drop(['ApplicantIncome', 'CoapplicantIncome', 'LoanAmount', 'Loan_Amount_Term', 'Total_Income', 'EMI', 'Balance_Income'], axis=1) \n",
    "test = test.drop(['ApplicantIncome', 'CoapplicantIncome', 'LoanAmount', 'Loan_Amount_Term', 'Total_Income', 'EMI', 'Balance_Income'], axis=1)"
   ]
  },
  {
   "cell_type": "markdown",
   "metadata": {},
   "source": [
    "## 4. Evaluation Metrics"
   ]
  },
  {
   "cell_type": "markdown",
   "metadata": {},
   "source": [
    "%%latex\n",
    "Evaluation metrics are an essencial part of the model building process. Since this is a **classification problem**, we can evaluate our models using a confusion matrix, shown in Fig X:\n",
    "\n",
    "\n",
    "\n",
    "<a>\n",
    "    <div style=\"margin: 20px;\">\n",
    "        <p align=\"left\">\n",
    "            <img width=\"40%\" align=\"middle\" src=\"./images/confusion_matrix.png\"/>\n",
    "            <h5 style=\"color:black;\" align=\"center\">Figure x - Confusion Matrix</h5>\n",
    "        </p>\n",
    "    </div>\n",
    "</a>\n",
    "\n",
    "In the correlation matrix, the elements have the following meaning:\n",
    "\n",
    "* True Positive (TP) - Targets which are actually true and were predicted true.\n",
    "* True Negative (TN) - Targets which are actually false and were predicted false.\n",
    "* False Positive (FP) - Targets which are actually false and were predicted true.\n",
    "* False Negative (FN) - Targets which are actually true and were predicted false.\n",
    "\n",
    "\n",
    "The confusion matrix gives a lot of information, but sometimes a more concise metric could be more helpful. An interesting one to look at is the accuracy of the positive predictions; this is called the precision of the classifier (Equation X). It is a measure of correctness achieved in true prediction, i.e., of observations labeled as true, how many were actually labeled true.\n",
    "\n",
    "$\\begin{align}\n",
    "Precision = \\frac{TP}{TP + FP}\n",
    "\\end{align}$ \n",
    "\n",
    "Precision is typically used along with another metric named **recall**, also called sensitivity or true positive rate (TPR): this is the ratio of positive instances that are correctly detected by the classifier (Equation x).\n",
    "\n",
    "$\\begin{align}\n",
    "Recall = \\frac{TP}{TP + FN}\n",
    "\\end{align}$ \n",
    "\n",
    "Another metric is caleld **Specificity** and it's a measure of how many observations of false class are labeled correctly.\n",
    "\n",
    "$\\begin{align}\n",
    "Specificity = \\frac{TN}{TN + FP}\n",
    "\\end{align}$ \n",
    "\n",
    "These previous metrics play a crucial role in deriving the **AUC - ROC curve**.\n",
    "\n",
    "The ROC (Receiver Operating Characteristic) curve summarizes the model’s performance by evaluating the trade offs between true positive rate (sensitivity) and False Positive Rate (1 - specificity). The area under curve (AUC) is called index of accuracy and is a performance metric for ROC curve. **The higher the area under curve, the better is the prediction power of the model**. In Figure X can be seen how a ROC curve looks like::\n",
    "\n",
    "\n",
    "<a>\n",
    "    <div style=\"margin: 20px;\">\n",
    "        <img width=\"40%\" align=\"middle\" src=\"./images/ROC.png\"/>\n",
    "        <h5 style=\"color:black;\" align=\"center\">Figure x - ROC Curve</h5>\n",
    "    </div>\n",
    "</a>"
   ]
  },
  {
   "cell_type": "markdown",
   "metadata": {},
   "source": [
    "## 5. Model Building"
   ]
  },
  {
   "cell_type": "markdown",
   "metadata": {},
   "source": [
    "To process the data through the algorithms, first, it's necessary to separate the label (target variable) from the rest of the dataset:"
   ]
  },
  {
   "cell_type": "markdown",
   "metadata": {},
   "source": [
    "### 5.1 Splitting tha Dataset into Training Set and Test Set"
   ]
  },
  {
   "cell_type": "code",
   "execution_count": 39,
   "metadata": {},
   "outputs": [],
   "source": [
    "X = train.drop('Loan_Status',1) \n",
    "y = train.Loan_Status"
   ]
  },
  {
   "cell_type": "markdown",
   "metadata": {},
   "source": [
    "As most Machine Learning algorithms don't work well with text labels, we should convert these to numbers (dummy variables):"
   ]
  },
  {
   "cell_type": "code",
   "execution_count": 40,
   "metadata": {},
   "outputs": [],
   "source": [
    "X = pd.get_dummies(X) \n",
    "train = pd.get_dummies(train) \n",
    "test = pd.get_dummies(test)"
   ]
  },
  {
   "cell_type": "code",
   "execution_count": 41,
   "metadata": {},
   "outputs": [
    {
     "data": {
      "text/html": [
       "<div>\n",
       "<style scoped>\n",
       "    .dataframe tbody tr th:only-of-type {\n",
       "        vertical-align: middle;\n",
       "    }\n",
       "\n",
       "    .dataframe tbody tr th {\n",
       "        vertical-align: top;\n",
       "    }\n",
       "\n",
       "    .dataframe thead th {\n",
       "        text-align: right;\n",
       "    }\n",
       "</style>\n",
       "<table border=\"1\" class=\"dataframe\">\n",
       "  <thead>\n",
       "    <tr style=\"text-align: right;\">\n",
       "      <th></th>\n",
       "      <th>Credit_History</th>\n",
       "      <th>LoanAmount_log</th>\n",
       "      <th>Total_Income_log</th>\n",
       "      <th>EMI_log</th>\n",
       "      <th>Balance_Income_log</th>\n",
       "      <th>Gender_Female</th>\n",
       "      <th>Gender_Male</th>\n",
       "      <th>Married_No</th>\n",
       "      <th>Married_Yes</th>\n",
       "      <th>Dependents_3</th>\n",
       "      <th>Dependents_0</th>\n",
       "      <th>Dependents_1</th>\n",
       "      <th>Dependents_2</th>\n",
       "      <th>Education_Graduate</th>\n",
       "      <th>Education_Not Graduate</th>\n",
       "      <th>Self_Employed_No</th>\n",
       "      <th>Self_Employed_Yes</th>\n",
       "      <th>Property_Area_Rural</th>\n",
       "      <th>Property_Area_Semiurban</th>\n",
       "      <th>Property_Area_Urban</th>\n",
       "    </tr>\n",
       "  </thead>\n",
       "  <tbody>\n",
       "    <tr>\n",
       "      <th>0</th>\n",
       "      <td>1.0</td>\n",
       "      <td>4.852030</td>\n",
       "      <td>8.674026</td>\n",
       "      <td>-1.034074</td>\n",
       "      <td>8.611311</td>\n",
       "      <td>0</td>\n",
       "      <td>1</td>\n",
       "      <td>1</td>\n",
       "      <td>0</td>\n",
       "      <td>0</td>\n",
       "      <td>1</td>\n",
       "      <td>0</td>\n",
       "      <td>0</td>\n",
       "      <td>1</td>\n",
       "      <td>0</td>\n",
       "      <td>1</td>\n",
       "      <td>0</td>\n",
       "      <td>0</td>\n",
       "      <td>0</td>\n",
       "      <td>1</td>\n",
       "    </tr>\n",
       "    <tr>\n",
       "      <th>1</th>\n",
       "      <td>1.0</td>\n",
       "      <td>4.852030</td>\n",
       "      <td>8.714568</td>\n",
       "      <td>-1.034074</td>\n",
       "      <td>8.654421</td>\n",
       "      <td>0</td>\n",
       "      <td>1</td>\n",
       "      <td>0</td>\n",
       "      <td>1</td>\n",
       "      <td>0</td>\n",
       "      <td>0</td>\n",
       "      <td>1</td>\n",
       "      <td>0</td>\n",
       "      <td>1</td>\n",
       "      <td>0</td>\n",
       "      <td>1</td>\n",
       "      <td>0</td>\n",
       "      <td>1</td>\n",
       "      <td>0</td>\n",
       "      <td>0</td>\n",
       "    </tr>\n",
       "    <tr>\n",
       "      <th>2</th>\n",
       "      <td>1.0</td>\n",
       "      <td>4.189655</td>\n",
       "      <td>8.006368</td>\n",
       "      <td>-1.696449</td>\n",
       "      <td>7.943309</td>\n",
       "      <td>0</td>\n",
       "      <td>1</td>\n",
       "      <td>0</td>\n",
       "      <td>1</td>\n",
       "      <td>0</td>\n",
       "      <td>1</td>\n",
       "      <td>0</td>\n",
       "      <td>0</td>\n",
       "      <td>1</td>\n",
       "      <td>0</td>\n",
       "      <td>0</td>\n",
       "      <td>1</td>\n",
       "      <td>0</td>\n",
       "      <td>0</td>\n",
       "      <td>1</td>\n",
       "    </tr>\n",
       "    <tr>\n",
       "      <th>3</th>\n",
       "      <td>1.0</td>\n",
       "      <td>4.787492</td>\n",
       "      <td>8.505323</td>\n",
       "      <td>-1.098612</td>\n",
       "      <td>8.435477</td>\n",
       "      <td>0</td>\n",
       "      <td>1</td>\n",
       "      <td>0</td>\n",
       "      <td>1</td>\n",
       "      <td>0</td>\n",
       "      <td>1</td>\n",
       "      <td>0</td>\n",
       "      <td>0</td>\n",
       "      <td>0</td>\n",
       "      <td>1</td>\n",
       "      <td>1</td>\n",
       "      <td>0</td>\n",
       "      <td>0</td>\n",
       "      <td>0</td>\n",
       "      <td>1</td>\n",
       "    </tr>\n",
       "    <tr>\n",
       "      <th>4</th>\n",
       "      <td>1.0</td>\n",
       "      <td>4.948760</td>\n",
       "      <td>8.699515</td>\n",
       "      <td>-0.937344</td>\n",
       "      <td>8.632009</td>\n",
       "      <td>0</td>\n",
       "      <td>1</td>\n",
       "      <td>1</td>\n",
       "      <td>0</td>\n",
       "      <td>0</td>\n",
       "      <td>1</td>\n",
       "      <td>0</td>\n",
       "      <td>0</td>\n",
       "      <td>1</td>\n",
       "      <td>0</td>\n",
       "      <td>1</td>\n",
       "      <td>0</td>\n",
       "      <td>0</td>\n",
       "      <td>0</td>\n",
       "      <td>1</td>\n",
       "    </tr>\n",
       "  </tbody>\n",
       "</table>\n",
       "</div>"
      ],
      "text/plain": [
       "   Credit_History  LoanAmount_log  Total_Income_log   EMI_log  \\\n",
       "0             1.0        4.852030          8.674026 -1.034074   \n",
       "1             1.0        4.852030          8.714568 -1.034074   \n",
       "2             1.0        4.189655          8.006368 -1.696449   \n",
       "3             1.0        4.787492          8.505323 -1.098612   \n",
       "4             1.0        4.948760          8.699515 -0.937344   \n",
       "\n",
       "   Balance_Income_log  Gender_Female  Gender_Male  Married_No  Married_Yes  \\\n",
       "0            8.611311              0            1           1            0   \n",
       "1            8.654421              0            1           0            1   \n",
       "2            7.943309              0            1           0            1   \n",
       "3            8.435477              0            1           0            1   \n",
       "4            8.632009              0            1           1            0   \n",
       "\n",
       "   Dependents_3  Dependents_0  Dependents_1  Dependents_2  Education_Graduate  \\\n",
       "0             0             1             0             0                   1   \n",
       "1             0             0             1             0                   1   \n",
       "2             0             1             0             0                   1   \n",
       "3             0             1             0             0                   0   \n",
       "4             0             1             0             0                   1   \n",
       "\n",
       "   Education_Not Graduate  Self_Employed_No  Self_Employed_Yes  \\\n",
       "0                       0                 1                  0   \n",
       "1                       0                 1                  0   \n",
       "2                       0                 0                  1   \n",
       "3                       1                 1                  0   \n",
       "4                       0                 1                  0   \n",
       "\n",
       "   Property_Area_Rural  Property_Area_Semiurban  Property_Area_Urban  \n",
       "0                    0                        0                    1  \n",
       "1                    1                        0                    0  \n",
       "2                    0                        0                    1  \n",
       "3                    0                        0                    1  \n",
       "4                    0                        0                    1  "
      ]
     },
     "execution_count": 41,
     "metadata": {},
     "output_type": "execute_result"
    }
   ],
   "source": [
    "X.head()"
   ]
  },
  {
   "cell_type": "code",
   "execution_count": 42,
   "metadata": {},
   "outputs": [
    {
     "data": {
      "text/html": [
       "<div>\n",
       "<style scoped>\n",
       "    .dataframe tbody tr th:only-of-type {\n",
       "        vertical-align: middle;\n",
       "    }\n",
       "\n",
       "    .dataframe tbody tr th {\n",
       "        vertical-align: top;\n",
       "    }\n",
       "\n",
       "    .dataframe thead th {\n",
       "        text-align: right;\n",
       "    }\n",
       "</style>\n",
       "<table border=\"1\" class=\"dataframe\">\n",
       "  <thead>\n",
       "    <tr style=\"text-align: right;\">\n",
       "      <th></th>\n",
       "      <th>Credit_History</th>\n",
       "      <th>Loan_Status</th>\n",
       "      <th>LoanAmount_log</th>\n",
       "      <th>Total_Income_log</th>\n",
       "      <th>EMI_log</th>\n",
       "      <th>Balance_Income_log</th>\n",
       "      <th>Gender_Female</th>\n",
       "      <th>Gender_Male</th>\n",
       "      <th>Married_No</th>\n",
       "      <th>Married_Yes</th>\n",
       "      <th>...</th>\n",
       "      <th>Dependents_0</th>\n",
       "      <th>Dependents_1</th>\n",
       "      <th>Dependents_2</th>\n",
       "      <th>Education_Graduate</th>\n",
       "      <th>Education_Not Graduate</th>\n",
       "      <th>Self_Employed_No</th>\n",
       "      <th>Self_Employed_Yes</th>\n",
       "      <th>Property_Area_Rural</th>\n",
       "      <th>Property_Area_Semiurban</th>\n",
       "      <th>Property_Area_Urban</th>\n",
       "    </tr>\n",
       "  </thead>\n",
       "  <tbody>\n",
       "    <tr>\n",
       "      <th>0</th>\n",
       "      <td>1.0</td>\n",
       "      <td>1</td>\n",
       "      <td>4.852030</td>\n",
       "      <td>8.674026</td>\n",
       "      <td>-1.034074</td>\n",
       "      <td>8.611311</td>\n",
       "      <td>0</td>\n",
       "      <td>1</td>\n",
       "      <td>1</td>\n",
       "      <td>0</td>\n",
       "      <td>...</td>\n",
       "      <td>1</td>\n",
       "      <td>0</td>\n",
       "      <td>0</td>\n",
       "      <td>1</td>\n",
       "      <td>0</td>\n",
       "      <td>1</td>\n",
       "      <td>0</td>\n",
       "      <td>0</td>\n",
       "      <td>0</td>\n",
       "      <td>1</td>\n",
       "    </tr>\n",
       "    <tr>\n",
       "      <th>1</th>\n",
       "      <td>1.0</td>\n",
       "      <td>0</td>\n",
       "      <td>4.852030</td>\n",
       "      <td>8.714568</td>\n",
       "      <td>-1.034074</td>\n",
       "      <td>8.654421</td>\n",
       "      <td>0</td>\n",
       "      <td>1</td>\n",
       "      <td>0</td>\n",
       "      <td>1</td>\n",
       "      <td>...</td>\n",
       "      <td>0</td>\n",
       "      <td>1</td>\n",
       "      <td>0</td>\n",
       "      <td>1</td>\n",
       "      <td>0</td>\n",
       "      <td>1</td>\n",
       "      <td>0</td>\n",
       "      <td>1</td>\n",
       "      <td>0</td>\n",
       "      <td>0</td>\n",
       "    </tr>\n",
       "    <tr>\n",
       "      <th>2</th>\n",
       "      <td>1.0</td>\n",
       "      <td>1</td>\n",
       "      <td>4.189655</td>\n",
       "      <td>8.006368</td>\n",
       "      <td>-1.696449</td>\n",
       "      <td>7.943309</td>\n",
       "      <td>0</td>\n",
       "      <td>1</td>\n",
       "      <td>0</td>\n",
       "      <td>1</td>\n",
       "      <td>...</td>\n",
       "      <td>1</td>\n",
       "      <td>0</td>\n",
       "      <td>0</td>\n",
       "      <td>1</td>\n",
       "      <td>0</td>\n",
       "      <td>0</td>\n",
       "      <td>1</td>\n",
       "      <td>0</td>\n",
       "      <td>0</td>\n",
       "      <td>1</td>\n",
       "    </tr>\n",
       "    <tr>\n",
       "      <th>3</th>\n",
       "      <td>1.0</td>\n",
       "      <td>1</td>\n",
       "      <td>4.787492</td>\n",
       "      <td>8.505323</td>\n",
       "      <td>-1.098612</td>\n",
       "      <td>8.435477</td>\n",
       "      <td>0</td>\n",
       "      <td>1</td>\n",
       "      <td>0</td>\n",
       "      <td>1</td>\n",
       "      <td>...</td>\n",
       "      <td>1</td>\n",
       "      <td>0</td>\n",
       "      <td>0</td>\n",
       "      <td>0</td>\n",
       "      <td>1</td>\n",
       "      <td>1</td>\n",
       "      <td>0</td>\n",
       "      <td>0</td>\n",
       "      <td>0</td>\n",
       "      <td>1</td>\n",
       "    </tr>\n",
       "    <tr>\n",
       "      <th>4</th>\n",
       "      <td>1.0</td>\n",
       "      <td>1</td>\n",
       "      <td>4.948760</td>\n",
       "      <td>8.699515</td>\n",
       "      <td>-0.937344</td>\n",
       "      <td>8.632009</td>\n",
       "      <td>0</td>\n",
       "      <td>1</td>\n",
       "      <td>1</td>\n",
       "      <td>0</td>\n",
       "      <td>...</td>\n",
       "      <td>1</td>\n",
       "      <td>0</td>\n",
       "      <td>0</td>\n",
       "      <td>1</td>\n",
       "      <td>0</td>\n",
       "      <td>1</td>\n",
       "      <td>0</td>\n",
       "      <td>0</td>\n",
       "      <td>0</td>\n",
       "      <td>1</td>\n",
       "    </tr>\n",
       "  </tbody>\n",
       "</table>\n",
       "<p>5 rows × 21 columns</p>\n",
       "</div>"
      ],
      "text/plain": [
       "   Credit_History  Loan_Status  LoanAmount_log  Total_Income_log   EMI_log  \\\n",
       "0             1.0            1        4.852030          8.674026 -1.034074   \n",
       "1             1.0            0        4.852030          8.714568 -1.034074   \n",
       "2             1.0            1        4.189655          8.006368 -1.696449   \n",
       "3             1.0            1        4.787492          8.505323 -1.098612   \n",
       "4             1.0            1        4.948760          8.699515 -0.937344   \n",
       "\n",
       "   Balance_Income_log  Gender_Female  Gender_Male  Married_No  Married_Yes  \\\n",
       "0            8.611311              0            1           1            0   \n",
       "1            8.654421              0            1           0            1   \n",
       "2            7.943309              0            1           0            1   \n",
       "3            8.435477              0            1           0            1   \n",
       "4            8.632009              0            1           1            0   \n",
       "\n",
       "          ...           Dependents_0  Dependents_1  Dependents_2  \\\n",
       "0         ...                      1             0             0   \n",
       "1         ...                      0             1             0   \n",
       "2         ...                      1             0             0   \n",
       "3         ...                      1             0             0   \n",
       "4         ...                      1             0             0   \n",
       "\n",
       "   Education_Graduate  Education_Not Graduate  Self_Employed_No  \\\n",
       "0                   1                       0                 1   \n",
       "1                   1                       0                 1   \n",
       "2                   1                       0                 0   \n",
       "3                   0                       1                 1   \n",
       "4                   1                       0                 1   \n",
       "\n",
       "   Self_Employed_Yes  Property_Area_Rural  Property_Area_Semiurban  \\\n",
       "0                  0                    0                        0   \n",
       "1                  0                    1                        0   \n",
       "2                  1                    0                        0   \n",
       "3                  0                    0                        0   \n",
       "4                  0                    0                        0   \n",
       "\n",
       "   Property_Area_Urban  \n",
       "0                    1  \n",
       "1                    0  \n",
       "2                    1  \n",
       "3                    1  \n",
       "4                    1  \n",
       "\n",
       "[5 rows x 21 columns]"
      ]
     },
     "execution_count": 42,
     "metadata": {},
     "output_type": "execute_result"
    }
   ],
   "source": [
    "train.head()"
   ]
  },
  {
   "cell_type": "markdown",
   "metadata": {},
   "source": [
    "The next step is to train the model on training set and make the predictions using the test set. One way to validate the model is dividing the training set into two parts: train and validation. However, a major disadvantage of this approach is that there is a huge possibility that during this split, some characteristics may be present only in one of the sets and absent in the other, so some interesting information about the data won't be useful, leading to a higher bias.\n",
    "\n",
    "To avoid this, there's a method called **k-fold cross validation**, which can be seen in Fig X :\n",
    "\n",
    "<div style='margin: 40px;'>\n",
    "    <img width=\"90%\" align=\"middle\" src=\"./images/k-fold-cross-validation.png\"/>\n",
    "    <h5 style=\"color:black;\" align=\"center\">Figure x - k-fold cross validation with k = 10 folds</h5>\n",
    "</div>\n",
    "The k-fold cross validation is composed of the following steps:\n",
    "\n",
    "1. It Randomly splits the entire dataset into k-folds\n",
    "2. For each k-fold, it builds a model on (k – 1) folds of the dataset and then test the model on the remaing fold and accuracy is recorded.\n",
    "3. The previous step is repeated until each K-fold has served as a test set\n",
    "5. The average of all recorded errors is called the cross-validation error and will serve as a performance metric for the model"
   ]
  },
  {
   "cell_type": "markdown",
   "metadata": {},
   "source": [
    "Another way of performing the k-fold cross validation is called **Stratified K-fold Cross Validation**, and it's best used when there is a big imbalance of classes in the dataset, so to guarantee that each fold will be a good representation of the dataset it randomly samples in each fold the same proportion of classes, as can be seen in Fig X:\n",
    "\n",
    "\n",
    "<div style='margin: 20px;'>\n",
    "    <img width=\"90%\" align=\"middle\" src=\"./images/stratified-k-fold-cross-validation.png\"/>\n",
    "    <h5 style=\"color:black;\" align=\"center\">Figure x - Stratified k-fold cross validation with k = 5 folds</h5>\n",
    "</div>"
   ]
  },
  {
   "cell_type": "code",
   "execution_count": 43,
   "metadata": {},
   "outputs": [],
   "source": [
    "#Importing Stratified k-fold cross validation\n",
    "from sklearn.model_selection import StratifiedKFold\n",
    "i=1 \n",
    "SKFV = StratifiedKFold(n_splits = 5, random_state = 42, shuffle = True) \n",
    "for train_index, test_index in SKFV.split(X,y):     \n",
    "    X_train, X_val = X.loc[train_index], X.loc[test_index]     \n",
    "    y_train, y_val = y[train_index], y[test_index]"
   ]
  },
  {
   "cell_type": "code",
   "execution_count": 44,
   "metadata": {
    "code_folding": []
   },
   "outputs": [],
   "source": [
    "#X_train.dropna(subset=['Balance_Income_log'], inplace=True)\n",
    "#X_val.dropna(subset=['Balance_Income_log'], inplace=True)"
   ]
  },
  {
   "cell_type": "code",
   "execution_count": 45,
   "metadata": {},
   "outputs": [
    {
     "data": {
      "text/plain": [
       "pandas.core.series.Series"
      ]
     },
     "execution_count": 45,
     "metadata": {},
     "output_type": "execute_result"
    }
   ],
   "source": [
    "type(y_train)"
   ]
  },
  {
   "cell_type": "markdown",
   "metadata": {},
   "source": [
    "### 5.3 Algorithms"
   ]
  },
  {
   "cell_type": "markdown",
   "metadata": {},
   "source": [
    "Since this is a Classification task, the following algorithms will be tested:\n",
    "\n",
    "* Neural Network\n",
    "* Logistic Regression\n",
    "* SVM\n",
    "* KNN\n",
    "* Decision Tree\n",
    "* Random Forest\n",
    "* XGBoost\n"
   ]
  },
  {
   "cell_type": "markdown",
   "metadata": {},
   "source": [
    "#### 5.3.1 Neural Network"
   ]
  },
  {
   "cell_type": "code",
   "execution_count": 46,
   "metadata": {},
   "outputs": [],
   "source": [
    "# TensorFlow and tf.keras\n",
    "import tensorflow as tf\n",
    "from tensorflow import keras"
   ]
  },
  {
   "cell_type": "markdown",
   "metadata": {},
   "source": [
    "The features for a neural network should be scaled so that all features range from 0 to 1, to help it train faster"
   ]
  },
  {
   "cell_type": "code",
   "execution_count": 47,
   "metadata": {},
   "outputs": [],
   "source": [
    "from sklearn.preprocessing import MinMaxScaler\n",
    "scaler = MinMaxScaler()\n",
    "X_train.iloc[:,1:5] = scaler.fit_transform(X_train.iloc[:,1:5])\n",
    "X_val.iloc[:,1:5] = scaler.fit_transform(X_val.iloc[:,1:5])"
   ]
  },
  {
   "cell_type": "code",
   "execution_count": 48,
   "metadata": {},
   "outputs": [
    {
     "data": {
      "text/html": [
       "<div>\n",
       "<style scoped>\n",
       "    .dataframe tbody tr th:only-of-type {\n",
       "        vertical-align: middle;\n",
       "    }\n",
       "\n",
       "    .dataframe tbody tr th {\n",
       "        vertical-align: top;\n",
       "    }\n",
       "\n",
       "    .dataframe thead th {\n",
       "        text-align: right;\n",
       "    }\n",
       "</style>\n",
       "<table border=\"1\" class=\"dataframe\">\n",
       "  <thead>\n",
       "    <tr style=\"text-align: right;\">\n",
       "      <th></th>\n",
       "      <th>Credit_History</th>\n",
       "      <th>LoanAmount_log</th>\n",
       "      <th>Total_Income_log</th>\n",
       "      <th>EMI_log</th>\n",
       "      <th>Balance_Income_log</th>\n",
       "      <th>Gender_Female</th>\n",
       "      <th>Gender_Male</th>\n",
       "      <th>Married_No</th>\n",
       "      <th>Married_Yes</th>\n",
       "      <th>Dependents_3</th>\n",
       "      <th>Dependents_0</th>\n",
       "      <th>Dependents_1</th>\n",
       "      <th>Dependents_2</th>\n",
       "      <th>Education_Graduate</th>\n",
       "      <th>Education_Not Graduate</th>\n",
       "      <th>Self_Employed_No</th>\n",
       "      <th>Self_Employed_Yes</th>\n",
       "      <th>Property_Area_Rural</th>\n",
       "      <th>Property_Area_Semiurban</th>\n",
       "      <th>Property_Area_Urban</th>\n",
       "    </tr>\n",
       "  </thead>\n",
       "  <tbody>\n",
       "    <tr>\n",
       "      <th>2</th>\n",
       "      <td>1.0</td>\n",
       "      <td>0.297959</td>\n",
       "      <td>0.163358</td>\n",
       "      <td>0.078538</td>\n",
       "      <td>0.200355</td>\n",
       "      <td>0</td>\n",
       "      <td>1</td>\n",
       "      <td>0</td>\n",
       "      <td>1</td>\n",
       "      <td>0</td>\n",
       "      <td>1</td>\n",
       "      <td>0</td>\n",
       "      <td>0</td>\n",
       "      <td>1</td>\n",
       "      <td>0</td>\n",
       "      <td>0</td>\n",
       "      <td>1</td>\n",
       "      <td>0</td>\n",
       "      <td>0</td>\n",
       "      <td>1</td>\n",
       "    </tr>\n",
       "    <tr>\n",
       "      <th>7</th>\n",
       "      <td>0.0</td>\n",
       "      <td>0.565888</td>\n",
       "      <td>0.366072</td>\n",
       "      <td>0.283681</td>\n",
       "      <td>0.384191</td>\n",
       "      <td>0</td>\n",
       "      <td>1</td>\n",
       "      <td>0</td>\n",
       "      <td>1</td>\n",
       "      <td>1</td>\n",
       "      <td>0</td>\n",
       "      <td>0</td>\n",
       "      <td>0</td>\n",
       "      <td>1</td>\n",
       "      <td>0</td>\n",
       "      <td>1</td>\n",
       "      <td>0</td>\n",
       "      <td>0</td>\n",
       "      <td>1</td>\n",
       "      <td>0</td>\n",
       "    </tr>\n",
       "    <tr>\n",
       "      <th>19</th>\n",
       "      <td>1.0</td>\n",
       "      <td>0.468389</td>\n",
       "      <td>0.397896</td>\n",
       "      <td>0.209030</td>\n",
       "      <td>0.422896</td>\n",
       "      <td>0</td>\n",
       "      <td>1</td>\n",
       "      <td>0</td>\n",
       "      <td>1</td>\n",
       "      <td>0</td>\n",
       "      <td>1</td>\n",
       "      <td>0</td>\n",
       "      <td>0</td>\n",
       "      <td>1</td>\n",
       "      <td>0</td>\n",
       "      <td>1</td>\n",
       "      <td>0</td>\n",
       "      <td>0</td>\n",
       "      <td>0</td>\n",
       "      <td>1</td>\n",
       "    </tr>\n",
       "    <tr>\n",
       "      <th>34</th>\n",
       "      <td>1.0</td>\n",
       "      <td>0.782495</td>\n",
       "      <td>0.706091</td>\n",
       "      <td>0.449529</td>\n",
       "      <td>0.709925</td>\n",
       "      <td>0</td>\n",
       "      <td>1</td>\n",
       "      <td>1</td>\n",
       "      <td>0</td>\n",
       "      <td>1</td>\n",
       "      <td>0</td>\n",
       "      <td>0</td>\n",
       "      <td>0</td>\n",
       "      <td>1</td>\n",
       "      <td>0</td>\n",
       "      <td>1</td>\n",
       "      <td>0</td>\n",
       "      <td>1</td>\n",
       "      <td>0</td>\n",
       "      <td>0</td>\n",
       "    </tr>\n",
       "    <tr>\n",
       "      <th>35</th>\n",
       "      <td>1.0</td>\n",
       "      <td>0.501260</td>\n",
       "      <td>0.285546</td>\n",
       "      <td>0.234198</td>\n",
       "      <td>0.307872</td>\n",
       "      <td>0</td>\n",
       "      <td>1</td>\n",
       "      <td>0</td>\n",
       "      <td>1</td>\n",
       "      <td>0</td>\n",
       "      <td>1</td>\n",
       "      <td>0</td>\n",
       "      <td>0</td>\n",
       "      <td>1</td>\n",
       "      <td>0</td>\n",
       "      <td>1</td>\n",
       "      <td>0</td>\n",
       "      <td>0</td>\n",
       "      <td>0</td>\n",
       "      <td>1</td>\n",
       "    </tr>\n",
       "  </tbody>\n",
       "</table>\n",
       "</div>"
      ],
      "text/plain": [
       "    Credit_History  LoanAmount_log  Total_Income_log   EMI_log  \\\n",
       "2              1.0        0.297959          0.163358  0.078538   \n",
       "7              0.0        0.565888          0.366072  0.283681   \n",
       "19             1.0        0.468389          0.397896  0.209030   \n",
       "34             1.0        0.782495          0.706091  0.449529   \n",
       "35             1.0        0.501260          0.285546  0.234198   \n",
       "\n",
       "    Balance_Income_log  Gender_Female  Gender_Male  Married_No  Married_Yes  \\\n",
       "2             0.200355              0            1           0            1   \n",
       "7             0.384191              0            1           0            1   \n",
       "19            0.422896              0            1           0            1   \n",
       "34            0.709925              0            1           1            0   \n",
       "35            0.307872              0            1           0            1   \n",
       "\n",
       "    Dependents_3  Dependents_0  Dependents_1  Dependents_2  \\\n",
       "2              0             1             0             0   \n",
       "7              1             0             0             0   \n",
       "19             0             1             0             0   \n",
       "34             1             0             0             0   \n",
       "35             0             1             0             0   \n",
       "\n",
       "    Education_Graduate  Education_Not Graduate  Self_Employed_No  \\\n",
       "2                    1                       0                 0   \n",
       "7                    1                       0                 1   \n",
       "19                   1                       0                 1   \n",
       "34                   1                       0                 1   \n",
       "35                   1                       0                 1   \n",
       "\n",
       "    Self_Employed_Yes  Property_Area_Rural  Property_Area_Semiurban  \\\n",
       "2                   1                    0                        0   \n",
       "7                   0                    0                        1   \n",
       "19                  0                    0                        0   \n",
       "34                  0                    1                        0   \n",
       "35                  0                    0                        0   \n",
       "\n",
       "    Property_Area_Urban  \n",
       "2                     1  \n",
       "7                     0  \n",
       "19                    1  \n",
       "34                    0  \n",
       "35                    1  "
      ]
     },
     "execution_count": 48,
     "metadata": {},
     "output_type": "execute_result"
    }
   ],
   "source": [
    "X_val.head()"
   ]
  },
  {
   "cell_type": "code",
   "execution_count": 49,
   "metadata": {},
   "outputs": [
    {
     "data": {
      "text/plain": [
       "(492, 20)"
      ]
     },
     "execution_count": 49,
     "metadata": {},
     "output_type": "execute_result"
    }
   ],
   "source": [
    "X_train_nn = X_train.values\n",
    "y_train_nn = y_train.values\n",
    "X_val_nn = X_val.values\n",
    "y_val_nn = y_val.values\n",
    "X_train_nn.shape"
   ]
  },
  {
   "cell_type": "code",
   "execution_count": 50,
   "metadata": {},
   "outputs": [],
   "source": [
    "model = keras.Sequential([\n",
    "    keras.layers.Flatten(input_shape=[X_train_nn.shape[1]]),\n",
    "    keras.layers.Dense(20, activation='relu'),\n",
    "    keras.layers.Dense(1, activation='sigmoid')\n",
    "])"
   ]
  },
  {
   "cell_type": "code",
   "execution_count": 51,
   "metadata": {},
   "outputs": [],
   "source": [
    "model.compile(optimizer='adam',\n",
    "              loss='binary_crossentropy',\n",
    "              metrics=['accuracy'])"
   ]
  },
  {
   "cell_type": "code",
   "execution_count": 52,
   "metadata": {},
   "outputs": [
    {
     "name": "stdout",
     "output_type": "stream",
     "text": [
      "Epoch 1/100\n",
      "492/492 [==============================] - 0s 567us/sample - loss: 0.6428 - accuracy: 0.6402\n",
      "Epoch 2/100\n",
      "492/492 [==============================] - 0s 61us/sample - loss: 0.6054 - accuracy: 0.6870\n",
      "Epoch 3/100\n",
      "492/492 [==============================] - 0s 53us/sample - loss: 0.5955 - accuracy: 0.6870\n",
      "Epoch 4/100\n",
      "492/492 [==============================] - 0s 53us/sample - loss: 0.5886 - accuracy: 0.6890\n",
      "Epoch 5/100\n",
      "492/492 [==============================] - 0s 51us/sample - loss: 0.5824 - accuracy: 0.6890\n",
      "Epoch 6/100\n",
      "492/492 [==============================] - 0s 55us/sample - loss: 0.5758 - accuracy: 0.6890\n",
      "Epoch 7/100\n",
      "492/492 [==============================] - 0s 59us/sample - loss: 0.5702 - accuracy: 0.6992\n",
      "Epoch 8/100\n",
      "492/492 [==============================] - 0s 51us/sample - loss: 0.5654 - accuracy: 0.7114\n",
      "Epoch 9/100\n",
      "492/492 [==============================] - 0s 49us/sample - loss: 0.5601 - accuracy: 0.7175\n",
      "Epoch 10/100\n",
      "492/492 [==============================] - 0s 55us/sample - loss: 0.5549 - accuracy: 0.7297\n",
      "Epoch 11/100\n",
      "492/492 [==============================] - 0s 47us/sample - loss: 0.5500 - accuracy: 0.7378\n",
      "Epoch 12/100\n",
      "492/492 [==============================] - 0s 49us/sample - loss: 0.5456 - accuracy: 0.7480\n",
      "Epoch 13/100\n",
      "492/492 [==============================] - 0s 51us/sample - loss: 0.5419 - accuracy: 0.7520\n",
      "Epoch 14/100\n",
      "492/492 [==============================] - 0s 47us/sample - loss: 0.5385 - accuracy: 0.7541\n",
      "Epoch 15/100\n",
      "492/492 [==============================] - 0s 55us/sample - loss: 0.5334 - accuracy: 0.7602\n",
      "Epoch 16/100\n",
      "492/492 [==============================] - 0s 53us/sample - loss: 0.5314 - accuracy: 0.7724\n",
      "Epoch 17/100\n",
      "492/492 [==============================] - 0s 55us/sample - loss: 0.5273 - accuracy: 0.7622\n",
      "Epoch 18/100\n",
      "492/492 [==============================] - 0s 53us/sample - loss: 0.5238 - accuracy: 0.7724\n",
      "Epoch 19/100\n",
      "492/492 [==============================] - 0s 51us/sample - loss: 0.5203 - accuracy: 0.7764\n",
      "Epoch 20/100\n",
      "492/492 [==============================] - 0s 51us/sample - loss: 0.5172 - accuracy: 0.7785\n",
      "Epoch 21/100\n",
      "492/492 [==============================] - 0s 53us/sample - loss: 0.5144 - accuracy: 0.7805\n",
      "Epoch 22/100\n",
      "492/492 [==============================] - 0s 51us/sample - loss: 0.5111 - accuracy: 0.7846\n",
      "Epoch 23/100\n",
      "492/492 [==============================] - 0s 49us/sample - loss: 0.5084 - accuracy: 0.7846\n",
      "Epoch 24/100\n",
      "492/492 [==============================] - 0s 63us/sample - loss: 0.5063 - accuracy: 0.7886\n",
      "Epoch 25/100\n",
      "492/492 [==============================] - 0s 51us/sample - loss: 0.5058 - accuracy: 0.7886\n",
      "Epoch 26/100\n",
      "492/492 [==============================] - 0s 51us/sample - loss: 0.5019 - accuracy: 0.7886\n",
      "Epoch 27/100\n",
      "492/492 [==============================] - 0s 51us/sample - loss: 0.5003 - accuracy: 0.7907\n",
      "Epoch 28/100\n",
      "492/492 [==============================] - 0s 51us/sample - loss: 0.4972 - accuracy: 0.7947\n",
      "Epoch 29/100\n",
      "492/492 [==============================] - 0s 49us/sample - loss: 0.4953 - accuracy: 0.7947\n",
      "Epoch 30/100\n",
      "492/492 [==============================] - 0s 51us/sample - loss: 0.4928 - accuracy: 0.7947\n",
      "Epoch 31/100\n",
      "492/492 [==============================] - 0s 59us/sample - loss: 0.4916 - accuracy: 0.7947\n",
      "Epoch 32/100\n",
      "492/492 [==============================] - 0s 59us/sample - loss: 0.4895 - accuracy: 0.7947\n",
      "Epoch 33/100\n",
      "492/492 [==============================] - 0s 51us/sample - loss: 0.4879 - accuracy: 0.7947\n",
      "Epoch 34/100\n",
      "492/492 [==============================] - 0s 47us/sample - loss: 0.4865 - accuracy: 0.7947\n",
      "Epoch 35/100\n",
      "492/492 [==============================] - 0s 51us/sample - loss: 0.4847 - accuracy: 0.8008\n",
      "Epoch 36/100\n",
      "492/492 [==============================] - 0s 53us/sample - loss: 0.4875 - accuracy: 0.7988\n",
      "Epoch 37/100\n",
      "492/492 [==============================] - 0s 49us/sample - loss: 0.4815 - accuracy: 0.8008\n",
      "Epoch 38/100\n",
      "492/492 [==============================] - 0s 51us/sample - loss: 0.4832 - accuracy: 0.8008\n",
      "Epoch 39/100\n",
      "492/492 [==============================] - 0s 64us/sample - loss: 0.4795 - accuracy: 0.8008\n",
      "Epoch 40/100\n",
      "492/492 [==============================] - 0s 51us/sample - loss: 0.4791 - accuracy: 0.8008\n",
      "Epoch 41/100\n",
      "492/492 [==============================] - 0s 51us/sample - loss: 0.4776 - accuracy: 0.8008\n",
      "Epoch 42/100\n",
      "492/492 [==============================] - 0s 53us/sample - loss: 0.4762 - accuracy: 0.8008\n",
      "Epoch 43/100\n",
      "492/492 [==============================] - 0s 51us/sample - loss: 0.4757 - accuracy: 0.8008\n",
      "Epoch 44/100\n",
      "492/492 [==============================] - 0s 57us/sample - loss: 0.4763 - accuracy: 0.8008\n",
      "Epoch 45/100\n",
      "492/492 [==============================] - 0s 51us/sample - loss: 0.4733 - accuracy: 0.8008\n",
      "Epoch 46/100\n",
      "492/492 [==============================] - 0s 53us/sample - loss: 0.4727 - accuracy: 0.8008\n",
      "Epoch 47/100\n",
      "492/492 [==============================] - 0s 53us/sample - loss: 0.4712 - accuracy: 0.8008\n",
      "Epoch 48/100\n",
      "492/492 [==============================] - 0s 51us/sample - loss: 0.4712 - accuracy: 0.8008\n",
      "Epoch 49/100\n",
      "492/492 [==============================] - 0s 51us/sample - loss: 0.4708 - accuracy: 0.8008\n",
      "Epoch 50/100\n",
      "492/492 [==============================] - 0s 57us/sample - loss: 0.4694 - accuracy: 0.8008\n",
      "Epoch 51/100\n",
      "492/492 [==============================] - 0s 53us/sample - loss: 0.4687 - accuracy: 0.8008\n",
      "Epoch 52/100\n",
      "492/492 [==============================] - 0s 53us/sample - loss: 0.4681 - accuracy: 0.8008\n",
      "Epoch 53/100\n",
      "492/492 [==============================] - 0s 53us/sample - loss: 0.4671 - accuracy: 0.8008\n",
      "Epoch 54/100\n",
      "492/492 [==============================] - 0s 51us/sample - loss: 0.4670 - accuracy: 0.8008\n",
      "Epoch 55/100\n",
      "492/492 [==============================] - 0s 51us/sample - loss: 0.4666 - accuracy: 0.8008\n",
      "Epoch 56/100\n",
      "492/492 [==============================] - 0s 51us/sample - loss: 0.4660 - accuracy: 0.8008\n",
      "Epoch 57/100\n",
      "492/492 [==============================] - 0s 49us/sample - loss: 0.4649 - accuracy: 0.8008\n",
      "Epoch 58/100\n",
      "492/492 [==============================] - 0s 51us/sample - loss: 0.4647 - accuracy: 0.8008\n",
      "Epoch 59/100\n",
      "492/492 [==============================] - 0s 49us/sample - loss: 0.4642 - accuracy: 0.8008\n",
      "Epoch 60/100\n",
      "492/492 [==============================] - 0s 49us/sample - loss: 0.4643 - accuracy: 0.8008\n",
      "Epoch 61/100\n",
      "492/492 [==============================] - 0s 53us/sample - loss: 0.4636 - accuracy: 0.8008\n",
      "Epoch 62/100\n",
      "492/492 [==============================] - 0s 55us/sample - loss: 0.4631 - accuracy: 0.8008\n",
      "Epoch 63/100\n",
      "492/492 [==============================] - 0s 55us/sample - loss: 0.4637 - accuracy: 0.8008\n",
      "Epoch 64/100\n",
      "492/492 [==============================] - 0s 47us/sample - loss: 0.4632 - accuracy: 0.8008\n",
      "Epoch 65/100\n",
      "492/492 [==============================] - 0s 51us/sample - loss: 0.4632 - accuracy: 0.8008\n",
      "Epoch 66/100\n",
      "492/492 [==============================] - 0s 49us/sample - loss: 0.4627 - accuracy: 0.8008\n",
      "Epoch 67/100\n",
      "492/492 [==============================] - 0s 55us/sample - loss: 0.4606 - accuracy: 0.8008\n",
      "Epoch 68/100\n",
      "492/492 [==============================] - 0s 45us/sample - loss: 0.4602 - accuracy: 0.8008\n",
      "Epoch 69/100\n",
      "492/492 [==============================] - 0s 59us/sample - loss: 0.4596 - accuracy: 0.8008\n",
      "Epoch 70/100\n",
      "492/492 [==============================] - 0s 59us/sample - loss: 0.4620 - accuracy: 0.8008\n",
      "Epoch 71/100\n",
      "492/492 [==============================] - 0s 53us/sample - loss: 0.4618 - accuracy: 0.8008\n",
      "Epoch 72/100\n",
      "492/492 [==============================] - 0s 51us/sample - loss: 0.4596 - accuracy: 0.8008\n",
      "Epoch 73/100\n",
      "492/492 [==============================] - 0s 49us/sample - loss: 0.4593 - accuracy: 0.8008\n",
      "Epoch 74/100\n",
      "492/492 [==============================] - 0s 57us/sample - loss: 0.4582 - accuracy: 0.8008\n",
      "Epoch 75/100\n",
      "492/492 [==============================] - 0s 57us/sample - loss: 0.4596 - accuracy: 0.8008\n",
      "Epoch 76/100\n",
      "492/492 [==============================] - 0s 61us/sample - loss: 0.4572 - accuracy: 0.8008\n",
      "Epoch 77/100\n",
      "492/492 [==============================] - 0s 53us/sample - loss: 0.4574 - accuracy: 0.8008\n",
      "Epoch 78/100\n",
      "492/492 [==============================] - 0s 53us/sample - loss: 0.4571 - accuracy: 0.8008\n",
      "Epoch 79/100\n"
     ]
    },
    {
     "name": "stdout",
     "output_type": "stream",
     "text": [
      "492/492 [==============================] - 0s 59us/sample - loss: 0.4569 - accuracy: 0.8008\n",
      "Epoch 80/100\n",
      "492/492 [==============================] - 0s 53us/sample - loss: 0.4566 - accuracy: 0.8008\n",
      "Epoch 81/100\n",
      "492/492 [==============================] - 0s 51us/sample - loss: 0.4574 - accuracy: 0.8008\n",
      "Epoch 82/100\n",
      "492/492 [==============================] - 0s 53us/sample - loss: 0.4561 - accuracy: 0.8008\n",
      "Epoch 83/100\n",
      "492/492 [==============================] - 0s 51us/sample - loss: 0.4560 - accuracy: 0.8008\n",
      "Epoch 84/100\n",
      "492/492 [==============================] - 0s 53us/sample - loss: 0.4550 - accuracy: 0.8008\n",
      "Epoch 85/100\n",
      "492/492 [==============================] - 0s 55us/sample - loss: 0.4555 - accuracy: 0.8008\n",
      "Epoch 86/100\n",
      "492/492 [==============================] - 0s 71us/sample - loss: 0.4557 - accuracy: 0.8008\n",
      "Epoch 87/100\n",
      "492/492 [==============================] - 0s 53us/sample - loss: 0.4551 - accuracy: 0.8008\n",
      "Epoch 88/100\n",
      "492/492 [==============================] - 0s 55us/sample - loss: 0.4547 - accuracy: 0.8008\n",
      "Epoch 89/100\n",
      "492/492 [==============================] - 0s 58us/sample - loss: 0.4540 - accuracy: 0.8008\n",
      "Epoch 90/100\n",
      "492/492 [==============================] - 0s 51us/sample - loss: 0.4541 - accuracy: 0.8008\n",
      "Epoch 91/100\n",
      "492/492 [==============================] - 0s 51us/sample - loss: 0.4539 - accuracy: 0.8008\n",
      "Epoch 92/100\n",
      "492/492 [==============================] - 0s 53us/sample - loss: 0.4556 - accuracy: 0.8008\n",
      "Epoch 93/100\n",
      "492/492 [==============================] - 0s 53us/sample - loss: 0.4527 - accuracy: 0.8008\n",
      "Epoch 94/100\n",
      "492/492 [==============================] - 0s 53us/sample - loss: 0.4528 - accuracy: 0.8008\n",
      "Epoch 95/100\n",
      "492/492 [==============================] - 0s 55us/sample - loss: 0.4530 - accuracy: 0.8008\n",
      "Epoch 96/100\n",
      "492/492 [==============================] - 0s 61us/sample - loss: 0.4550 - accuracy: 0.8008\n",
      "Epoch 97/100\n",
      "492/492 [==============================] - 0s 55us/sample - loss: 0.4522 - accuracy: 0.8008\n",
      "Epoch 98/100\n",
      "492/492 [==============================] - 0s 53us/sample - loss: 0.4540 - accuracy: 0.8008\n",
      "Epoch 99/100\n",
      "492/492 [==============================] - 0s 53us/sample - loss: 0.4509 - accuracy: 0.8008\n",
      "Epoch 100/100\n",
      "492/492 [==============================] - 0s 53us/sample - loss: 0.4526 - accuracy: 0.8008\n"
     ]
    },
    {
     "data": {
      "text/plain": [
       "<tensorflow.python.keras.callbacks.History at 0x16a2def1630>"
      ]
     },
     "execution_count": 52,
     "metadata": {},
     "output_type": "execute_result"
    }
   ],
   "source": [
    "model.fit(X_train_nn, y_train_nn, epochs=100)"
   ]
  },
  {
   "cell_type": "code",
   "execution_count": 53,
   "metadata": {},
   "outputs": [
    {
     "name": "stdout",
     "output_type": "stream",
     "text": [
      "122/122 [==============================] - 0s 805us/sample - loss: 0.4167 - accuracy: 0.8443\n",
      "\n",
      "Test accuracy: 0.8442623\n"
     ]
    }
   ],
   "source": [
    "test_loss, test_acc = model.evaluate(X_val_nn, y_val_nn)\n",
    "\n",
    "print('\\nTest accuracy:', test_acc)"
   ]
  },
  {
   "cell_type": "code",
   "execution_count": 54,
   "metadata": {
    "scrolled": true
   },
   "outputs": [
    {
     "data": {
      "text/plain": [
       "array([[0.88545024],\n",
       "       [0.26131445],\n",
       "       [0.86975056],\n",
       "       [0.7565738 ],\n",
       "       [0.87226653],\n",
       "       [0.93359005],\n",
       "       [0.09319484],\n",
       "       [0.941675  ],\n",
       "       [0.8225682 ],\n",
       "       [0.80946124],\n",
       "       [0.85383606],\n",
       "       [0.80530494],\n",
       "       [0.8147235 ],\n",
       "       [0.9190512 ],\n",
       "       [0.70620906],\n",
       "       [0.8930176 ],\n",
       "       [0.8245877 ],\n",
       "       [0.10810432],\n",
       "       [0.7904074 ],\n",
       "       [0.7946482 ],\n",
       "       [0.7296582 ],\n",
       "       [0.5313192 ],\n",
       "       [0.94316405],\n",
       "       [0.842607  ],\n",
       "       [0.09999925],\n",
       "       [0.83689725],\n",
       "       [0.76923394],\n",
       "       [0.6407297 ],\n",
       "       [0.7229507 ],\n",
       "       [0.09625879],\n",
       "       [0.17666304],\n",
       "       [0.17868432],\n",
       "       [0.07974008],\n",
       "       [0.9232596 ],\n",
       "       [0.7735194 ],\n",
       "       [0.6872739 ],\n",
       "       [0.19002053],\n",
       "       [0.85388255],\n",
       "       [0.8960768 ],\n",
       "       [0.83585453],\n",
       "       [0.92148626],\n",
       "       [0.68080175],\n",
       "       [0.57411265],\n",
       "       [0.8288441 ],\n",
       "       [0.8326657 ],\n",
       "       [0.69745207],\n",
       "       [0.7171513 ],\n",
       "       [0.83416766],\n",
       "       [0.895792  ],\n",
       "       [0.88590884],\n",
       "       [0.8554747 ],\n",
       "       [0.77357864],\n",
       "       [0.06205252],\n",
       "       [0.0709025 ],\n",
       "       [0.90509224],\n",
       "       [0.8389218 ],\n",
       "       [0.78872   ],\n",
       "       [0.82253236],\n",
       "       [0.85530055],\n",
       "       [0.82825994],\n",
       "       [0.88397217],\n",
       "       [0.88332653],\n",
       "       [0.06253773],\n",
       "       [0.86912   ],\n",
       "       [0.7421545 ],\n",
       "       [0.06766501],\n",
       "       [0.8801166 ],\n",
       "       [0.888283  ],\n",
       "       [0.66450423],\n",
       "       [0.87469435],\n",
       "       [0.7297317 ],\n",
       "       [0.09053436],\n",
       "       [0.7785511 ],\n",
       "       [0.8746607 ],\n",
       "       [0.75314945],\n",
       "       [0.75583345],\n",
       "       [0.824912  ],\n",
       "       [0.8040618 ],\n",
       "       [0.87352335],\n",
       "       [0.88066304],\n",
       "       [0.23877868],\n",
       "       [0.32602942],\n",
       "       [0.68063825],\n",
       "       [0.651892  ],\n",
       "       [0.8490285 ],\n",
       "       [0.6837653 ],\n",
       "       [0.7802581 ],\n",
       "       [0.6831909 ],\n",
       "       [0.6899716 ],\n",
       "       [0.76190656],\n",
       "       [0.9418237 ],\n",
       "       [0.67862743],\n",
       "       [0.80971324],\n",
       "       [0.91864884],\n",
       "       [0.9090872 ],\n",
       "       [0.6430774 ],\n",
       "       [0.6701712 ],\n",
       "       [0.69591963],\n",
       "       [0.8442618 ],\n",
       "       [0.858287  ],\n",
       "       [0.70968163],\n",
       "       [0.8280701 ],\n",
       "       [0.7058704 ],\n",
       "       [0.13417685],\n",
       "       [0.90514445],\n",
       "       [0.10720593],\n",
       "       [0.8800283 ],\n",
       "       [0.22837907],\n",
       "       [0.9035816 ],\n",
       "       [0.92918444],\n",
       "       [0.12528637],\n",
       "       [0.8962347 ],\n",
       "       [0.92567986],\n",
       "       [0.71147996],\n",
       "       [0.2945549 ],\n",
       "       [0.8261008 ],\n",
       "       [0.15022117],\n",
       "       [0.88538194],\n",
       "       [0.8111019 ],\n",
       "       [0.90664726],\n",
       "       [0.89500755],\n",
       "       [0.16989638]], dtype=float32)"
      ]
     },
     "execution_count": 54,
     "metadata": {},
     "output_type": "execute_result"
    }
   ],
   "source": [
    "predictions = model.predict(X_val_nn)\n",
    "predictions"
   ]
  },
  {
   "cell_type": "code",
   "execution_count": 55,
   "metadata": {},
   "outputs": [],
   "source": [
    "def from_sig_to_real(x):\n",
    "    return np.where(x < 0.5, 0, 1)"
   ]
  },
  {
   "cell_type": "code",
   "execution_count": 56,
   "metadata": {},
   "outputs": [],
   "source": [
    "precitions_to_1_or_0 = from_sig_to_real(predictions)\n",
    "precitions_to_1_or_0 = np.squeeze(precitions_to_1_or_0)"
   ]
  },
  {
   "cell_type": "code",
   "execution_count": 57,
   "metadata": {},
   "outputs": [
    {
     "name": "stdout",
     "output_type": "stream",
     "text": [
      "(122,)\n",
      "(122,)\n"
     ]
    }
   ],
   "source": [
    "print(y_val_nn.shape)\n",
    "print(precitions_to_1_or_0.shape)"
   ]
  },
  {
   "cell_type": "code",
   "execution_count": 58,
   "metadata": {},
   "outputs": [
    {
     "name": "stdout",
     "output_type": "stream",
     "text": [
      "Confusion Matrix: \n",
      "[[21 17]\n",
      " [ 2 82]]\n"
     ]
    }
   ],
   "source": [
    "from sklearn import metrics\n",
    "from sklearn.metrics import confusion_matrix\n",
    "#Calculating the Confusion Matrix\n",
    "print('Confusion Matrix: ')\n",
    "print(confusion_matrix(y_val_nn, precitions_to_1_or_0))"
   ]
  },
  {
   "cell_type": "code",
   "execution_count": 59,
   "metadata": {},
   "outputs": [],
   "source": [
    "Neural_network_acc = test_acc"
   ]
  },
  {
   "cell_type": "markdown",
   "metadata": {},
   "source": [
    "So with a Test accuracy of **84.4%**, this model will serve as a baseline for the other models below"
   ]
  },
  {
   "cell_type": "code",
   "execution_count": 60,
   "metadata": {},
   "outputs": [],
   "source": [
    "from sklearn import metrics\n",
    "#Creating a function to run the algorithms\n",
    "def model_clf(classifier, Features_Importance = False):\n",
    "    \n",
    "    #print(classifier)\n",
    "    X_train_, y_train_, X_val_, y_val_ = X_train.values, y_train.values, X_val.values, y_val.values\n",
    "    \n",
    "    #classifier = algorithm(random_state = 42) \n",
    "    classifier.fit(X_train, y_train)     \n",
    "    pred_test = classifier.predict(X_val)     \n",
    "    score = accuracy_score(y_val, pred_test)     \n",
    "    print('The accuracy_score was: ',score)     \n",
    "    pred = classifier.predict_proba(X_val)[:,1]\n",
    "    \n",
    "    #Calculating the Confusion Matrix\n",
    "    print('Confusion Matrix: ')\n",
    "    print(confusion_matrix(y_val, pred_test))\n",
    "    #plotting the ROC Curve\n",
    "    fpr, tpr, _ = metrics.roc_curve(y_val,  pred) \n",
    "    auc = metrics.roc_auc_score(y_val, pred) \n",
    "    plt.figure(figsize=(6,4)) \n",
    "    plt.plot(fpr,tpr,label=\"validation, auc=\"+str(auc)) \n",
    "    plt.xlabel('False Positive Rate') \n",
    "    plt.ylabel('True Positive Rate') \n",
    "    plt.title('ROC Curve')\n",
    "    plt.legend(loc=4) \n",
    "    plt.show()\n",
    "    \n",
    "    if(Features_Importance == True):\n",
    "        importances=pd.Series(classifier.feature_importances_, index=X.columns) \n",
    "        importances.plot(kind='barh', figsize=(10,6))\n",
    "        plt.title('Features Importance')\n",
    "       \n",
    "    return score"
   ]
  },
  {
   "cell_type": "code",
   "execution_count": 70,
   "metadata": {},
   "outputs": [],
   "source": [
    "#Importing Stratified k-fold cross validation\n",
    "from sklearn.model_selection import StratifiedKFold\n",
    "i=1 \n",
    "SKFV = StratifiedKFold(n_splits = 5, random_state = 42, shuffle = True) \n",
    "for train_index, test_index in SKFV.split(X,y):     \n",
    "    X_train, X_val = X.loc[train_index], X.loc[test_index]     \n",
    "    y_train, y_val = y[train_index], y[test_index]"
   ]
  },
  {
   "cell_type": "markdown",
   "metadata": {},
   "source": [
    "#### 5.3.2 Logistic Regression"
   ]
  },
  {
   "cell_type": "code",
   "execution_count": 71,
   "metadata": {},
   "outputs": [
    {
     "name": "stdout",
     "output_type": "stream",
     "text": [
      "The accuracy_score was:  0.8442622950819673\n",
      "Confusion Matrix: \n",
      "[[21 17]\n",
      " [ 2 82]]\n"
     ]
    },
    {
     "data": {
      "image/png": "[encoded data removed]",
      "text/plain": [
       "<Figure size 432x288 with 1 Axes>"
      ]
     },
     "metadata": {
      "needs_background": "light"
     },
     "output_type": "display_data"
    }
   ],
   "source": [
    "from sklearn.linear_model import LogisticRegression \n",
    "from sklearn.metrics import accuracy_score\n",
    "from sklearn.metrics import confusion_matrix\n",
    "classifer = LogisticRegression()\n",
    "score_LR = model_clf(classifer)"
   ]
  },
  {
   "cell_type": "markdown",
   "metadata": {},
   "source": [
    "#### 5.3.3 SVM"
   ]
  },
  {
   "cell_type": "code",
   "execution_count": 72,
   "metadata": {},
   "outputs": [
    {
     "name": "stdout",
     "output_type": "stream",
     "text": [
      "The accuracy_score was:  0.8442622950819673\n",
      "Confusion Matrix: \n",
      "[[21 17]\n",
      " [ 2 82]]\n"
     ]
    },
    {
     "data": {
      "image/png": "[encoded data removed]",
      "text/plain": [
       "<Figure size 432x288 with 1 Axes>"
      ]
     },
     "metadata": {
      "needs_background": "light"
     },
     "output_type": "display_data"
    }
   ],
   "source": [
    "# Fitting Kernel SVM to the Training set\n",
    "from sklearn.svm import SVC\n",
    "classifier = SVC(random_state = 42, kernel = 'rbf', probability=True)\n",
    "score_SVM =model_clf(classifier)"
   ]
  },
  {
   "cell_type": "markdown",
   "metadata": {},
   "source": [
    "#### 5.3.4 KNN"
   ]
  },
  {
   "cell_type": "code",
   "execution_count": 73,
   "metadata": {},
   "outputs": [
    {
     "name": "stdout",
     "output_type": "stream",
     "text": [
      "The accuracy_score was:  0.7377049180327869\n",
      "Confusion Matrix: \n",
      "[[12 26]\n",
      " [ 6 78]]\n"
     ]
    },
    {
     "data": {
      "image/png": "[encoded data removed]",
      "text/plain": [
       "<Figure size 432x288 with 1 Axes>"
      ]
     },
     "metadata": {
      "needs_background": "light"
     },
     "output_type": "display_data"
    }
   ],
   "source": [
    "from sklearn.neighbors import KNeighborsClassifier\n",
    "classifier = KNeighborsClassifier(n_neighbors = 5, metric = 'minkowski', p = 2)\n",
    "score_KNN = model_clf(classifier)"
   ]
  },
  {
   "cell_type": "markdown",
   "metadata": {},
   "source": [
    "#### 5.3.5 Decision Tree"
   ]
  },
  {
   "cell_type": "code",
   "execution_count": 74,
   "metadata": {},
   "outputs": [
    {
     "name": "stdout",
     "output_type": "stream",
     "text": [
      "The accuracy_score was:  0.7049180327868853\n",
      "Confusion Matrix: \n",
      "[[23 15]\n",
      " [21 63]]\n"
     ]
    },
    {
     "data": {
      "image/png": "[encoded data removed]",
      "text/plain": [
       "<Figure size 432x288 with 1 Axes>"
      ]
     },
     "metadata": {
      "needs_background": "light"
     },
     "output_type": "display_data"
    },
    {
     "data": {
      "image/png": "[encoded data removed]",
      "text/plain": [
       "<Figure size 720x432 with 1 Axes>"
      ]
     },
     "metadata": {
      "needs_background": "light"
     },
     "output_type": "display_data"
    }
   ],
   "source": [
    "from sklearn import tree\n",
    "classifier = tree.DecisionTreeClassifier(random_state = 42)\n",
    "score_DT = model_clf(classifier, Features_Importance = True)"
   ]
  },
  {
   "cell_type": "markdown",
   "metadata": {},
   "source": [
    "#### 5.3.6 Random Forest"
   ]
  },
  {
   "cell_type": "code",
   "execution_count": 75,
   "metadata": {},
   "outputs": [
    {
     "name": "stdout",
     "output_type": "stream",
     "text": [
      "The accuracy_score was:  0.8114754098360656\n",
      "Confusion Matrix: \n",
      "[[21 17]\n",
      " [ 6 78]]\n"
     ]
    },
    {
     "data": {
      "image/png": "[encoded data removed]",
      "text/plain": [
       "<Figure size 432x288 with 1 Axes>"
      ]
     },
     "metadata": {
      "needs_background": "light"
     },
     "output_type": "display_data"
    },
    {
     "data": {
      "image/png": "[encoded data removed]",
      "text/plain": [
       "<Figure size 720x432 with 1 Axes>"
      ]
     },
     "metadata": {
      "needs_background": "light"
     },
     "output_type": "display_data"
    }
   ],
   "source": [
    "from sklearn.ensemble import RandomForestClassifier\n",
    "classifier = RandomForestClassifier(random_state = 42, max_depth=10)\n",
    "score_RF = model_clf(classifier, Features_Importance = True) "
   ]
  },
  {
   "cell_type": "markdown",
   "metadata": {},
   "source": [
    "#### 5.3.7 XGBoost"
   ]
  },
  {
   "cell_type": "code",
   "execution_count": 76,
   "metadata": {},
   "outputs": [
    {
     "name": "stdout",
     "output_type": "stream",
     "text": [
      "The accuracy_score was:  0.860655737704918\n",
      "Confusion Matrix: \n",
      "[[23 15]\n",
      " [ 2 82]]\n"
     ]
    },
    {
     "data": {
      "image/png": "[encoded data removed]",
      "text/plain": [
       "<Figure size 432x288 with 1 Axes>"
      ]
     },
     "metadata": {
      "needs_background": "light"
     },
     "output_type": "display_data"
    },
    {
     "data": {
      "image/png": "[encoded data removed]",
      "text/plain": [
       "<Figure size 720x432 with 1 Axes>"
      ]
     },
     "metadata": {
      "needs_background": "light"
     },
     "output_type": "display_data"
    }
   ],
   "source": [
    "from xgboost import XGBClassifier\n",
    "classifier = XGBClassifier(n_estimators=45, max_depth=4)\n",
    "score_XGB = model_clf(classifier, Features_Importance = True)"
   ]
  },
  {
   "cell_type": "markdown",
   "metadata": {},
   "source": [
    "From the Features Importance plot it's interesting to see that differently from the other algorithms, the most important feature used in XGBoost was the Total Income from the applicants, and this lead to a higher accuracy. "
   ]
  },
  {
   "cell_type": "markdown",
   "metadata": {},
   "source": [
    "## 6. Models Comparison"
   ]
  },
  {
   "cell_type": "code",
   "execution_count": 77,
   "metadata": {},
   "outputs": [
    {
     "data": {
      "text/html": [
       "<div>\n",
       "<style scoped>\n",
       "    .dataframe tbody tr th:only-of-type {\n",
       "        vertical-align: middle;\n",
       "    }\n",
       "\n",
       "    .dataframe tbody tr th {\n",
       "        vertical-align: top;\n",
       "    }\n",
       "\n",
       "    .dataframe thead th {\n",
       "        text-align: right;\n",
       "    }\n",
       "</style>\n",
       "<table border=\"1\" class=\"dataframe\">\n",
       "  <thead>\n",
       "    <tr style=\"text-align: right;\">\n",
       "      <th></th>\n",
       "      <th>Logistic Regression</th>\n",
       "      <th>Decision Tree</th>\n",
       "      <th>Random Forest</th>\n",
       "      <th>SVM</th>\n",
       "      <th>KNN</th>\n",
       "      <th>XGBoost</th>\n",
       "      <th>Neural Network</th>\n",
       "    </tr>\n",
       "  </thead>\n",
       "  <tbody>\n",
       "    <tr>\n",
       "      <th>Score</th>\n",
       "      <td>0.844262</td>\n",
       "      <td>0.704918</td>\n",
       "      <td>0.811475</td>\n",
       "      <td>0.844262</td>\n",
       "      <td>0.737705</td>\n",
       "      <td>0.860656</td>\n",
       "      <td>0.844262</td>\n",
       "    </tr>\n",
       "  </tbody>\n",
       "</table>\n",
       "</div>"
      ],
      "text/plain": [
       "       Logistic Regression  Decision Tree  Random Forest       SVM       KNN  \\\n",
       "Score             0.844262       0.704918       0.811475  0.844262  0.737705   \n",
       "\n",
       "        XGBoost  Neural Network  \n",
       "Score  0.860656        0.844262  "
      ]
     },
     "execution_count": 77,
     "metadata": {},
     "output_type": "execute_result"
    }
   ],
   "source": [
    "d = {'Logistic Regression': score_LR,\n",
    "    'Decision Tree': score_DT,\n",
    "    'Random Forest': score_RF,\n",
    "    'SVM': score_SVM,\n",
    "    'KNN': score_KNN,\n",
    "    'XGBoost': score_XGB,\n",
    "    'Neural Network': Neural_network_acc,\n",
    "    }\n",
    "scores = pd.DataFrame(d, index = ['Score'])\n",
    "scores"
   ]
  },
  {
   "cell_type": "code",
   "execution_count": 78,
   "metadata": {},
   "outputs": [
    {
     "data": {
      "image/png": "[encoded data removed]",
      "text/plain": [
       "<Figure size 864x576 with 1 Axes>"
      ]
     },
     "metadata": {
      "needs_background": "light"
     },
     "output_type": "display_data"
    }
   ],
   "source": [
    "my_colors = ['r', 'g', 'b', 'k', 'y', 'm', 'c'] \n",
    "scores.sort_values('Score', ascending=False, inplace = True, axis = 1)\n",
    "scores.loc['Score',:].plot(\n",
    "    kind = 'bar', \n",
    "    color = my_colors,\n",
    "    figsize=(12,8),\n",
    "    \n",
    "    )\n",
    "plt.xticks(rotation=0)\n",
    "plt.title('Scores from Algorithms')\n",
    "plt.show()"
   ]
  },
  {
   "cell_type": "markdown",
   "metadata": {},
   "source": [
    "With a Score of 0.860656, the best model found here was the XGBoost using 45 estimators with a max depth of 4. "
   ]
  }
 ],
 "metadata": {
  "hide_input": false,
  "kernelspec": {
   "display_name": "Python 3",
   "language": "python",
   "name": "python3"
  },
  "language_info": {
   "codemirror_mode": {
    "name": "ipython",
    "version": 3
   },
   "file_extension": ".py",
   "mimetype": "text/x-python",
   "name": "python",
   "nbconvert_exporter": "python",
   "pygments_lexer": "ipython3",
   "version": "3.7.1"
  },
  "latex_envs": {
   "LaTeX_envs_menu_present": true,
   "autoclose": false,
   "autocomplete": true,
   "bibliofile": "biblio.bib",
   "cite_by": "apalike",
   "current_citInitial": 1,
   "eqLabelWithNumbers": true,
   "eqNumInitial": 1,
   "hotkeys": {
    "equation": "Ctrl-E",
    "itemize": "Ctrl-I"
   },
   "labels_anchors": false,
   "latex_user_defs": false,
   "report_style_numbering": false,
   "user_envs_cfg": false
  },
  "toc": {
   "base_numbering": 1,
   "nav_menu": {},
   "number_sections": false,
   "sideBar": true,
   "skip_h1_title": false,
   "title_cell": "Table of Contents",
   "title_sidebar": "Contents",
   "toc_cell": true,
   "toc_position": {},
   "toc_section_display": true,
   "toc_window_display": false
  },
  "varInspector": {
   "cols": {
    "lenName": 16,
    "lenType": 16,
    "lenVar": 40
   },
   "kernels_config": {
    "python": {
     "delete_cmd_postfix": "",
     "delete_cmd_prefix": "del ",
     "library": "var_list.py",
     "varRefreshCmd": "print(var_dic_list())"
    },
    "r": {
     "delete_cmd_postfix": ") ",
     "delete_cmd_prefix": "rm(",
     "library": "var_list.r",
     "varRefreshCmd": "cat(var_dic_list()) "
    }
   },
   "position": {
    "height": "575px",
    "left": "1550px",
    "right": "20px",
    "top": "120px",
    "width": "350px"
   },
   "types_to_exclude": [
    "module",
    "function",
    "builtin_function_or_method",
    "instance",
    "_Feature"
   ],
   "window_display": false
  }
 },
 "nbformat": 4,
 "nbformat_minor": 2
}
